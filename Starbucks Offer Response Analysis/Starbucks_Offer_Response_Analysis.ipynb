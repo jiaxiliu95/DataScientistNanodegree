{
 "cells": [
  {
   "cell_type": "markdown",
   "metadata": {},
   "source": [
    "# Starbucks Offer Response Analysis"
   ]
  },
  {
   "cell_type": "markdown",
   "metadata": {},
   "source": [
    "## Project Overview\n",
    "\n",
    "Starbucks sends out offers to customers through various media channels to encourage buying. The offers can be discount coupons or  merely advertisements for specific drinks. However, only a proportion of the sent-out offers are viewed and used by the customers before expiration. The demographic characteristics of a customer, as well as the features of the received offer, may affect the way that they react to the offer. Sending out the offers in a smarter way may improve the effectiveness and stimulate more buying.\n",
    "\n",
    "To better understand the target audience of different offer types, a simulation is conducted to mimic customer behavior on the Starbucks offers. The offers include BOGO (buy one get one), discounts, and informational ads. During the 30-day experiment, customers may receive offers every few days. Some users might not receive any offer during certain weeks and not all users receive the same offer. \n",
    "The available data contain the offer portfolio, the customer profile, and the transaction information. The objective is to explore a smarter way to send out offers that gains a higher response rate."
   ]
  },
  {
   "cell_type": "markdown",
   "metadata": {},
   "source": [
    "## Problem Statement\n",
    "\n",
    "The primary issues that the project focuses on are\n",
    "\n",
    "- what factors have the most important impacts on the response from customers,\n",
    "\n",
    "- which demographic groups respond best to which offer type."
   ]
  },
  {
   "cell_type": "markdown",
   "metadata": {},
   "source": [
    "## Evaluation Metrics\n",
    "\n",
    "The project first conducts qualitative analysis that provides a set of heuristics, then trains a machine learning model that provides quantitative results. Two metrics being used are F1 score and feature importance, the former of which measures the accuracy of a model, and the latter of which gives us a sense of the predictive power of the features in the model."
   ]
  },
  {
   "cell_type": "code",
   "execution_count": 1,
   "metadata": {},
   "outputs": [],
   "source": [
    "# import libraries\n",
    "import pandas as pd\n",
    "import numpy as np\n",
    "import math\n",
    "import json\n",
    "import matplotlib.pyplot as plt\n",
    "import seaborn as sns\n",
    "import re\n",
    "import math\n",
    "import string\n",
    "import datetime\n",
    "\n",
    "from sklearn.metrics import confusion_matrix, classification_report\n",
    "from sklearn.ensemble import RandomForestClassifier, AdaBoostClassifier\n",
    "from sklearn.model_selection import train_test_split, GridSearchCV\n",
    "from sklearn.preprocessing import normalize\n",
    "import matplotlib.ticker as mtick\n",
    "\n",
    "pd.options.mode.chained_assignment = None\n",
    "%matplotlib inline\n",
    "\n",
    "# read in the json files\n",
    "portfolio = pd.read_json('data/portfolio.json', orient='records', lines=True)\n",
    "profile = pd.read_json('data/profile.json', orient='records', lines=True)\n",
    "transcript = pd.read_json('data/transcript.json', orient='records', lines=True)"
   ]
  },
  {
   "cell_type": "markdown",
   "metadata": {},
   "source": [
    "## Analysis"
   ]
  },
  {
   "cell_type": "markdown",
   "metadata": {},
   "source": [
    "### Data Overview"
   ]
  },
  {
   "cell_type": "markdown",
   "metadata": {},
   "source": [
    "In this part, we will first have an overview of each dataset and determine the data cleaning and processing steps.\n",
    "\n",
    "The data is contained in three files:\n",
    "\n",
    "* portfolio.json - containing offer ids and meta data about each offer (duration, type, etc.)\n",
    "* profile.json - demographic data for each customer\n",
    "* transcript.json - records for transactions, offers received, offers viewed, and offers completed\n",
    "\n",
    "Here is the schema and explanation of each variable in the files:\n",
    "\n",
    "**portfolio.json**\n",
    "* id (string) - offer id\n",
    "* offer_type (string) - type of offer ie BOGO, discount, informational\n",
    "* difficulty (int) - minimum required spend to complete an offer\n",
    "* reward (int) - reward given for completing an offer\n",
    "* duration (int) - time for offer to be open, in days\n",
    "* channels (list of strings)\n",
    "\n",
    "**profile.json**\n",
    "* age (int) - age of the customer \n",
    "* became_member_on (int) - date when customer created an app account\n",
    "* gender (str) - gender of the customer (note some entries contain 'O' for other rather than M or F)\n",
    "* id (str) - customer id\n",
    "* income (float) - customer's income\n",
    "\n",
    "**transcript.json**\n",
    "* event (str) - record description (ie transaction, offer received, offer viewed, etc.)\n",
    "* person (str) - customer id\n",
    "* time (int) - time in hours since start of test. The data begins at time t=0\n",
    "* value - (dict of strings) - either an offer id or transaction amount depending on the record"
   ]
  },
  {
   "cell_type": "markdown",
   "metadata": {},
   "source": [
    "#### Portfolio of Offers"
   ]
  },
  {
   "cell_type": "code",
   "execution_count": 2,
   "metadata": {},
   "outputs": [
    {
     "data": {
      "text/html": [
       "<div>\n",
       "<style scoped>\n",
       "    .dataframe tbody tr th:only-of-type {\n",
       "        vertical-align: middle;\n",
       "    }\n",
       "\n",
       "    .dataframe tbody tr th {\n",
       "        vertical-align: top;\n",
       "    }\n",
       "\n",
       "    .dataframe thead th {\n",
       "        text-align: right;\n",
       "    }\n",
       "</style>\n",
       "<table border=\"1\" class=\"dataframe\">\n",
       "  <thead>\n",
       "    <tr style=\"text-align: right;\">\n",
       "      <th></th>\n",
       "      <th>reward</th>\n",
       "      <th>channels</th>\n",
       "      <th>difficulty</th>\n",
       "      <th>duration</th>\n",
       "      <th>offer_type</th>\n",
       "      <th>id</th>\n",
       "    </tr>\n",
       "  </thead>\n",
       "  <tbody>\n",
       "    <tr>\n",
       "      <th>0</th>\n",
       "      <td>10</td>\n",
       "      <td>[email, mobile, social]</td>\n",
       "      <td>10</td>\n",
       "      <td>7</td>\n",
       "      <td>bogo</td>\n",
       "      <td>ae264e3637204a6fb9bb56bc8210ddfd</td>\n",
       "    </tr>\n",
       "    <tr>\n",
       "      <th>1</th>\n",
       "      <td>10</td>\n",
       "      <td>[web, email, mobile, social]</td>\n",
       "      <td>10</td>\n",
       "      <td>5</td>\n",
       "      <td>bogo</td>\n",
       "      <td>4d5c57ea9a6940dd891ad53e9dbe8da0</td>\n",
       "    </tr>\n",
       "    <tr>\n",
       "      <th>2</th>\n",
       "      <td>0</td>\n",
       "      <td>[web, email, mobile]</td>\n",
       "      <td>0</td>\n",
       "      <td>4</td>\n",
       "      <td>informational</td>\n",
       "      <td>3f207df678b143eea3cee63160fa8bed</td>\n",
       "    </tr>\n",
       "  </tbody>\n",
       "</table>\n",
       "</div>"
      ],
      "text/plain": [
       "   reward                      channels  difficulty  duration     offer_type  \\\n",
       "0      10       [email, mobile, social]          10         7           bogo   \n",
       "1      10  [web, email, mobile, social]          10         5           bogo   \n",
       "2       0          [web, email, mobile]           0         4  informational   \n",
       "\n",
       "                                 id  \n",
       "0  ae264e3637204a6fb9bb56bc8210ddfd  \n",
       "1  4d5c57ea9a6940dd891ad53e9dbe8da0  \n",
       "2  3f207df678b143eea3cee63160fa8bed  "
      ]
     },
     "execution_count": 2,
     "metadata": {},
     "output_type": "execute_result"
    }
   ],
   "source": [
    "portfolio.head(3)"
   ]
  },
  {
   "cell_type": "code",
   "execution_count": 3,
   "metadata": {},
   "outputs": [
    {
     "data": {
      "text/plain": [
       "offer_type\n",
       "bogo             4\n",
       "discount         4\n",
       "informational    2\n",
       "Name: id, dtype: int64"
      ]
     },
     "execution_count": 3,
     "metadata": {},
     "output_type": "execute_result"
    }
   ],
   "source": [
    "portfolio.groupby(['offer_type'])['id'].count()"
   ]
  },
  {
   "cell_type": "code",
   "execution_count": 4,
   "metadata": {},
   "outputs": [
    {
     "data": {
      "text/plain": [
       "array([list(['email', 'mobile', 'social']),\n",
       "       list(['web', 'email', 'mobile', 'social']),\n",
       "       list(['web', 'email', 'mobile']), list(['web', 'email', 'mobile']),\n",
       "       list(['web', 'email']), list(['web', 'email', 'mobile', 'social']),\n",
       "       list(['web', 'email', 'mobile', 'social']),\n",
       "       list(['email', 'mobile', 'social']),\n",
       "       list(['web', 'email', 'mobile', 'social']),\n",
       "       list(['web', 'email', 'mobile'])], dtype=object)"
      ]
     },
     "execution_count": 4,
     "metadata": {},
     "output_type": "execute_result"
    }
   ],
   "source": [
    "portfolio['channels'].values"
   ]
  },
  {
   "cell_type": "markdown",
   "metadata": {},
   "source": [
    "There are four types of media channels that the offers are sent through. The ```channels``` column will be split into four columns, each of which is a binary categorical column corresponding to a channel. This will be done in the data processing part."
   ]
  },
  {
   "cell_type": "markdown",
   "metadata": {},
   "source": [
    "#### Profile of Users"
   ]
  },
  {
   "cell_type": "code",
   "execution_count": 5,
   "metadata": {},
   "outputs": [
    {
     "data": {
      "text/html": [
       "<div>\n",
       "<style scoped>\n",
       "    .dataframe tbody tr th:only-of-type {\n",
       "        vertical-align: middle;\n",
       "    }\n",
       "\n",
       "    .dataframe tbody tr th {\n",
       "        vertical-align: top;\n",
       "    }\n",
       "\n",
       "    .dataframe thead th {\n",
       "        text-align: right;\n",
       "    }\n",
       "</style>\n",
       "<table border=\"1\" class=\"dataframe\">\n",
       "  <thead>\n",
       "    <tr style=\"text-align: right;\">\n",
       "      <th></th>\n",
       "      <th>gender</th>\n",
       "      <th>age</th>\n",
       "      <th>id</th>\n",
       "      <th>became_member_on</th>\n",
       "      <th>income</th>\n",
       "    </tr>\n",
       "  </thead>\n",
       "  <tbody>\n",
       "    <tr>\n",
       "      <th>0</th>\n",
       "      <td>None</td>\n",
       "      <td>118</td>\n",
       "      <td>68be06ca386d4c31939f3a4f0e3dd783</td>\n",
       "      <td>20170212</td>\n",
       "      <td>NaN</td>\n",
       "    </tr>\n",
       "    <tr>\n",
       "      <th>1</th>\n",
       "      <td>F</td>\n",
       "      <td>55</td>\n",
       "      <td>0610b486422d4921ae7d2bf64640c50b</td>\n",
       "      <td>20170715</td>\n",
       "      <td>112000.0</td>\n",
       "    </tr>\n",
       "    <tr>\n",
       "      <th>2</th>\n",
       "      <td>None</td>\n",
       "      <td>118</td>\n",
       "      <td>38fe809add3b4fcf9315a9694bb96ff5</td>\n",
       "      <td>20180712</td>\n",
       "      <td>NaN</td>\n",
       "    </tr>\n",
       "  </tbody>\n",
       "</table>\n",
       "</div>"
      ],
      "text/plain": [
       "  gender  age                                id  became_member_on    income\n",
       "0   None  118  68be06ca386d4c31939f3a4f0e3dd783          20170212       NaN\n",
       "1      F   55  0610b486422d4921ae7d2bf64640c50b          20170715  112000.0\n",
       "2   None  118  38fe809add3b4fcf9315a9694bb96ff5          20180712       NaN"
      ]
     },
     "execution_count": 5,
     "metadata": {},
     "output_type": "execute_result"
    }
   ],
   "source": [
    "profile.head(3)"
   ]
  },
  {
   "cell_type": "code",
   "execution_count": 6,
   "metadata": {},
   "outputs": [
    {
     "data": {
      "text/plain": [
       "gender              2175\n",
       "age                    0\n",
       "id                     0\n",
       "became_member_on       0\n",
       "income              2175\n",
       "dtype: int64"
      ]
     },
     "execution_count": 6,
     "metadata": {},
     "output_type": "execute_result"
    }
   ],
   "source": [
    "# check missing values\n",
    "profile.isna().sum()"
   ]
  },
  {
   "cell_type": "code",
   "execution_count": 7,
   "metadata": {},
   "outputs": [
    {
     "name": "stdout",
     "output_type": "stream",
     "text": [
      "The proportion of records with missing values:  0.12794117647058822\n"
     ]
    }
   ],
   "source": [
    "print('The proportion of records with missing values: ', 2175/len(profile))"
   ]
  },
  {
   "cell_type": "markdown",
   "metadata": {},
   "source": [
    "Check the ```gender``` column.\n",
    "\n",
    "Only around 1% of records have a gender other than female ('F') and male ('M'), which is denoted as 'O' in the dataset. Keeping these records will make the dataset severely imbalanced and affect the model performance. So these records will be dropped when doing data processing."
   ]
  },
  {
   "cell_type": "code",
   "execution_count": 8,
   "metadata": {},
   "outputs": [
    {
     "data": {
      "text/plain": [
       "array([None, 'F', 'M', 'O'], dtype=object)"
      ]
     },
     "execution_count": 8,
     "metadata": {},
     "output_type": "execute_result"
    }
   ],
   "source": [
    "profile['gender'].unique()"
   ]
  },
  {
   "cell_type": "code",
   "execution_count": 9,
   "metadata": {},
   "outputs": [
    {
     "name": "stdout",
     "output_type": "stream",
     "text": [
      "The proportion of records with 'O' gender:  0.012470588235294117\n"
     ]
    }
   ],
   "source": [
    "print('The proportion of records with \\'O\\' gender: ',\n",
    "      sum(profile['gender'] == 'O')/len(profile))"
   ]
  },
  {
   "cell_type": "markdown",
   "metadata": {},
   "source": [
    "Check ```age``` column.\n",
    "\n",
    "The maximum age is 118, which indicates a missing value. These records will be dropped in data processing."
   ]
  },
  {
   "cell_type": "code",
   "execution_count": 10,
   "metadata": {},
   "outputs": [
    {
     "data": {
      "text/plain": [
       "count    17000.000000\n",
       "mean        62.531412\n",
       "std         26.738580\n",
       "min         18.000000\n",
       "25%         45.000000\n",
       "50%         58.000000\n",
       "75%         73.000000\n",
       "max        118.000000\n",
       "Name: age, dtype: float64"
      ]
     },
     "execution_count": 10,
     "metadata": {},
     "output_type": "execute_result"
    }
   ],
   "source": [
    "# statistics of 'age' column\n",
    "profile['age'].describe()"
   ]
  },
  {
   "cell_type": "markdown",
   "metadata": {},
   "source": [
    "#### Transcript"
   ]
  },
  {
   "cell_type": "code",
   "execution_count": 11,
   "metadata": {},
   "outputs": [
    {
     "data": {
      "text/html": [
       "<div>\n",
       "<style scoped>\n",
       "    .dataframe tbody tr th:only-of-type {\n",
       "        vertical-align: middle;\n",
       "    }\n",
       "\n",
       "    .dataframe tbody tr th {\n",
       "        vertical-align: top;\n",
       "    }\n",
       "\n",
       "    .dataframe thead th {\n",
       "        text-align: right;\n",
       "    }\n",
       "</style>\n",
       "<table border=\"1\" class=\"dataframe\">\n",
       "  <thead>\n",
       "    <tr style=\"text-align: right;\">\n",
       "      <th></th>\n",
       "      <th>person</th>\n",
       "      <th>event</th>\n",
       "      <th>value</th>\n",
       "      <th>time</th>\n",
       "    </tr>\n",
       "  </thead>\n",
       "  <tbody>\n",
       "    <tr>\n",
       "      <th>0</th>\n",
       "      <td>78afa995795e4d85b5d9ceeca43f5fef</td>\n",
       "      <td>offer received</td>\n",
       "      <td>{'offer id': '9b98b8c7a33c4b65b9aebfe6a799e6d9'}</td>\n",
       "      <td>0</td>\n",
       "    </tr>\n",
       "    <tr>\n",
       "      <th>1</th>\n",
       "      <td>a03223e636434f42ac4c3df47e8bac43</td>\n",
       "      <td>offer received</td>\n",
       "      <td>{'offer id': '0b1e1539f2cc45b7b9fa7c272da2e1d7'}</td>\n",
       "      <td>0</td>\n",
       "    </tr>\n",
       "    <tr>\n",
       "      <th>2</th>\n",
       "      <td>e2127556f4f64592b11af22de27a7932</td>\n",
       "      <td>offer received</td>\n",
       "      <td>{'offer id': '2906b810c7d4411798c6938adc9daaa5'}</td>\n",
       "      <td>0</td>\n",
       "    </tr>\n",
       "  </tbody>\n",
       "</table>\n",
       "</div>"
      ],
      "text/plain": [
       "                             person           event  \\\n",
       "0  78afa995795e4d85b5d9ceeca43f5fef  offer received   \n",
       "1  a03223e636434f42ac4c3df47e8bac43  offer received   \n",
       "2  e2127556f4f64592b11af22de27a7932  offer received   \n",
       "\n",
       "                                              value  time  \n",
       "0  {'offer id': '9b98b8c7a33c4b65b9aebfe6a799e6d9'}     0  \n",
       "1  {'offer id': '0b1e1539f2cc45b7b9fa7c272da2e1d7'}     0  \n",
       "2  {'offer id': '2906b810c7d4411798c6938adc9daaa5'}     0  "
      ]
     },
     "execution_count": 11,
     "metadata": {},
     "output_type": "execute_result"
    }
   ],
   "source": [
    "transcript.head(3)"
   ]
  },
  {
   "cell_type": "code",
   "execution_count": 12,
   "metadata": {},
   "outputs": [
    {
     "data": {
      "text/plain": [
       "(306534, 4)"
      ]
     },
     "execution_count": 12,
     "metadata": {},
     "output_type": "execute_result"
    }
   ],
   "source": [
    "transcript.shape"
   ]
  },
  {
   "cell_type": "code",
   "execution_count": 13,
   "metadata": {},
   "outputs": [
    {
     "data": {
      "text/plain": [
       "person    object\n",
       "event     object\n",
       "value     object\n",
       "time       int64\n",
       "dtype: object"
      ]
     },
     "execution_count": 13,
     "metadata": {},
     "output_type": "execute_result"
    }
   ],
   "source": [
    "transcript.dtypes"
   ]
  },
  {
   "cell_type": "code",
   "execution_count": 14,
   "metadata": {},
   "outputs": [
    {
     "data": {
      "text/plain": [
       "array(['offer received', 'offer viewed', 'transaction', 'offer completed'],\n",
       "      dtype=object)"
      ]
     },
     "execution_count": 14,
     "metadata": {},
     "output_type": "execute_result"
    }
   ],
   "source": [
    "transcript['event'].unique()"
   ]
  },
  {
   "cell_type": "code",
   "execution_count": 15,
   "metadata": {},
   "outputs": [
    {
     "data": {
      "text/plain": [
       "person    0\n",
       "event     0\n",
       "value     0\n",
       "time      0\n",
       "dtype: int64"
      ]
     },
     "execution_count": 15,
     "metadata": {},
     "output_type": "execute_result"
    }
   ],
   "source": [
    "# check missing values\n",
    "transcript.isna().sum()"
   ]
  },
  {
   "cell_type": "markdown",
   "metadata": {},
   "source": [
    "There are no missing values and abnormal records in the transcript dataset. This dataset is split into four subsets depending on the type of event. But the ```value``` column is in dictionary form, which need to be encoded in data processing."
   ]
  },
  {
   "cell_type": "markdown",
   "metadata": {},
   "source": [
    "### Data Cleaning"
   ]
  },
  {
   "cell_type": "markdown",
   "metadata": {},
   "source": [
    "Since there is no missing values and abnormalities in portfolio and transcript datasets, we only need to clean the profile data before moving forward. The cleaning steps are:\n",
    " - Drop records with missing values in ```gender```, ```Income``` and ```age``` columns.\n",
    " - Drop records that ```gender = 'O'```"
   ]
  },
  {
   "cell_type": "code",
   "execution_count": 16,
   "metadata": {},
   "outputs": [],
   "source": [
    "# drop missing values\n",
    "profile.dropna(subset = ['gender', 'income'], inplace = True)\n",
    "profile = profile[profile['age'] != 118]\n",
    "\n",
    "# drop gender = 'O' records\n",
    "profile = profile[profile['gender'] != 'O']"
   ]
  },
  {
   "cell_type": "markdown",
   "metadata": {},
   "source": [
    "Now we can have an overview of the customers' demographic distribution. The median age is around 50s-60s and the median income is around 60k."
   ]
  },
  {
   "cell_type": "code",
   "execution_count": 17,
   "metadata": {},
   "outputs": [
    {
     "data": {
      "image/png": "[encoded data removed]",
      "text/plain": [
       "<Figure size 1440x360 with 3 Axes>"
      ]
     },
     "metadata": {
      "needs_background": "light"
     },
     "output_type": "display_data"
    }
   ],
   "source": [
    "fig = plt.figure(figsize = (20, 5))\n",
    "axs = []\n",
    "\n",
    "gender = profile.groupby('gender')['id'].count().reset_index(name = 'gender_count')\n",
    "axs.append(fig.add_subplot(131))\n",
    "axs[0].pie(gender['gender_count'], labels = ['female', 'male'],\n",
    "          autopct = '%.2f%%', colors = ['lightpink', 'lightblue'], textprops={'fontsize': 14})\n",
    "plt.title('Distribution of Gender', fontsize = 18)\n",
    "\n",
    "\n",
    "# the distribution of the age\n",
    "axs.append(fig.add_subplot(132))\n",
    "age = profile['age']\n",
    "axs[1].hist(age, bins = 10, weights = np.ones_like(age)/len(age),\n",
    "        color = 'lightblue')\n",
    "plt.xticks(fontsize = 14)\n",
    "plt.yticks(fontsize = 14)\n",
    "plt.xlabel('age', fontsize = 16)\n",
    "plt.ylabel('proportion', fontsize = 16)\n",
    "plt.title('Distribution of Age', fontsize = 18)\n",
    "\n",
    "# the distribution of the income\n",
    "axs.append(fig.add_subplot(133))\n",
    "income = profile['income']\n",
    "axs[2].hist(income, bins = 10, weights = np.ones_like(age)/len(age),\n",
    "        color = 'lightblue')\n",
    "plt.xticks(fontsize = 14)\n",
    "plt.yticks(fontsize = 14)\n",
    "plt.xlabel('income', fontsize = 16)\n",
    "plt.ylabel('proportion', fontsize = 16)\n",
    "plt.title('Distribution of Income', fontsize = 18)\n",
    "\n",
    "plt.show()"
   ]
  },
  {
   "cell_type": "markdown",
   "metadata": {},
   "source": [
    "### Data Processing"
   ]
  },
  {
   "cell_type": "markdown",
   "metadata": {},
   "source": [
    "In this part, we will encode categorical variables in each dataset, merge/split the datasets and select/create features to get the data we need to do further analysis and modeling:\n",
    "\n",
    "- Encode categorical features.\n",
    "    - Profile data: encode gender.\n",
    "    - Portfolio data: split ```channels``` column into four separate categorical columns.\n",
    "    \n",
    "- Convert ```duration``` in ```portfolio``` to hours.\n",
    "    \n",
    "- Process ```transcript``` dataframe.\n",
    "    - Split the dataset into four subset by ```event```. The four new dataframes are named ```received```, ```viewed```, ```completed``` and ```transaction```.\n",
    "    - Extract offer id from ```value``` column in ```received```, ```viewed``` and ```completed``` and store in a new column named ```offer```.\n",
    "    - Extract the transaction amount from the ```value``` column in ```transaction``` subset and store the amount to a new column.\n",
    "    \n",
    "- Merge and split dataset.\n",
    "    - Merging ```profile``` to ```received``` by customer id.\n",
    "    - Merge ```portfolio``` to ```received``` dataframe by offer id.\n",
    "    - Split the merged dataset by offer type into 3 new dataframes.\n",
    "\n",
    "- Add new features/columns.\n",
    "    - Check if an offer is viewed and add a new column named ```viewed``` in ```received```.\n",
    "    - Check if an offer is completed and add a new column named ```completed``` in ```received```\n",
    "    - Add the number of days that a customer has become a member.\n",
    "    - Add an ```amount (offer)``` column to ```profile_sub``` dataset, which is the amount a customer spend within offer active windows.\n",
    "    - Add an ```amount (no offer)``` column to ```profile_sub``` dataset, which is the amount a customer spend with no offer. We only keep the customers who have ever received an offer in this case."
   ]
  },
  {
   "cell_type": "markdown",
   "metadata": {},
   "source": [
    "#### Encode categorical features"
   ]
  },
  {
   "cell_type": "markdown",
   "metadata": {},
   "source": [
    "Encode ```gender``` in profile."
   ]
  },
  {
   "cell_type": "code",
   "execution_count": 18,
   "metadata": {},
   "outputs": [],
   "source": [
    "# encode gender in profile\n",
    "gender_dict = {'F': 1, 'M': 0}\n",
    "profile['gender'] = profile['gender'].apply(lambda x: gender_dict[x])"
   ]
  },
  {
   "cell_type": "markdown",
   "metadata": {},
   "source": [
    "Split `channels` into separate category columns"
   ]
  },
  {
   "cell_type": "code",
   "execution_count": 19,
   "metadata": {},
   "outputs": [],
   "source": [
    "channels = pd.Series(['web', 'email', 'social', 'mobile'])\n",
    "\n",
    "def get_channels(val, channels = channels):\n",
    "    \"\"\"\n",
    "    Encode the channels column from a list of strings to a \n",
    "    list of 0s and 1s.\n",
    "    \n",
    "    Args:\n",
    "        val: a list of channels extracted from the dataframe\n",
    "        channels: a series of all alternative channels\n",
    "        \n",
    "    Return:\n",
    "        encoded_channels: a list of 0s and 1s \n",
    "        indicating which channels occur in the input value.\n",
    "    \"\"\"\n",
    "    val = pd.Series(val)\n",
    "    encoded_channels = channels.isin(val).astype(\"int\").tolist()\n",
    "    return encoded_channels\n",
    "\n",
    "portfolio['encoded_channels'] = portfolio['channels'].apply(lambda x: get_channels(x))"
   ]
  },
  {
   "cell_type": "code",
   "execution_count": 20,
   "metadata": {},
   "outputs": [],
   "source": [
    "# split the channels into separate columns\n",
    "portfolio[['web', 'email', 'social', 'mobile']] = pd.DataFrame(portfolio.encoded_channels.tolist())"
   ]
  },
  {
   "cell_type": "code",
   "execution_count": 21,
   "metadata": {},
   "outputs": [],
   "source": [
    "portfolio.drop(columns = ['channels', 'encoded_channels'], inplace = True)"
   ]
  },
  {
   "cell_type": "code",
   "execution_count": 22,
   "metadata": {},
   "outputs": [
    {
     "data": {
      "text/html": [
       "<div>\n",
       "<style scoped>\n",
       "    .dataframe tbody tr th:only-of-type {\n",
       "        vertical-align: middle;\n",
       "    }\n",
       "\n",
       "    .dataframe tbody tr th {\n",
       "        vertical-align: top;\n",
       "    }\n",
       "\n",
       "    .dataframe thead th {\n",
       "        text-align: right;\n",
       "    }\n",
       "</style>\n",
       "<table border=\"1\" class=\"dataframe\">\n",
       "  <thead>\n",
       "    <tr style=\"text-align: right;\">\n",
       "      <th></th>\n",
       "      <th>reward</th>\n",
       "      <th>difficulty</th>\n",
       "      <th>duration</th>\n",
       "      <th>offer_type</th>\n",
       "      <th>id</th>\n",
       "      <th>web</th>\n",
       "      <th>email</th>\n",
       "      <th>social</th>\n",
       "      <th>mobile</th>\n",
       "    </tr>\n",
       "  </thead>\n",
       "  <tbody>\n",
       "    <tr>\n",
       "      <th>0</th>\n",
       "      <td>10</td>\n",
       "      <td>10</td>\n",
       "      <td>7</td>\n",
       "      <td>bogo</td>\n",
       "      <td>ae264e3637204a6fb9bb56bc8210ddfd</td>\n",
       "      <td>0</td>\n",
       "      <td>1</td>\n",
       "      <td>1</td>\n",
       "      <td>1</td>\n",
       "    </tr>\n",
       "    <tr>\n",
       "      <th>1</th>\n",
       "      <td>10</td>\n",
       "      <td>10</td>\n",
       "      <td>5</td>\n",
       "      <td>bogo</td>\n",
       "      <td>4d5c57ea9a6940dd891ad53e9dbe8da0</td>\n",
       "      <td>1</td>\n",
       "      <td>1</td>\n",
       "      <td>1</td>\n",
       "      <td>1</td>\n",
       "    </tr>\n",
       "    <tr>\n",
       "      <th>2</th>\n",
       "      <td>0</td>\n",
       "      <td>0</td>\n",
       "      <td>4</td>\n",
       "      <td>informational</td>\n",
       "      <td>3f207df678b143eea3cee63160fa8bed</td>\n",
       "      <td>1</td>\n",
       "      <td>1</td>\n",
       "      <td>0</td>\n",
       "      <td>1</td>\n",
       "    </tr>\n",
       "  </tbody>\n",
       "</table>\n",
       "</div>"
      ],
      "text/plain": [
       "   reward  difficulty  duration     offer_type  \\\n",
       "0      10          10         7           bogo   \n",
       "1      10          10         5           bogo   \n",
       "2       0           0         4  informational   \n",
       "\n",
       "                                 id  web  email  social  mobile  \n",
       "0  ae264e3637204a6fb9bb56bc8210ddfd    0      1       1       1  \n",
       "1  4d5c57ea9a6940dd891ad53e9dbe8da0    1      1       1       1  \n",
       "2  3f207df678b143eea3cee63160fa8bed    1      1       0       1  "
      ]
     },
     "execution_count": 22,
     "metadata": {},
     "output_type": "execute_result"
    }
   ],
   "source": [
    "portfolio.head(3)"
   ]
  },
  {
   "cell_type": "markdown",
   "metadata": {},
   "source": [
    "#### Convert ```duration``` from days to hours"
   ]
  },
  {
   "cell_type": "code",
   "execution_count": 23,
   "metadata": {},
   "outputs": [],
   "source": [
    "portfolio['duration'] = 24*portfolio['duration']"
   ]
  },
  {
   "cell_type": "markdown",
   "metadata": {},
   "source": [
    "#### Process the ```transcript``` dataset."
   ]
  },
  {
   "cell_type": "code",
   "execution_count": 24,
   "metadata": {},
   "outputs": [],
   "source": [
    "# split the transcript dataset to four subsets by event type\n",
    "received = transcript[transcript['event'] == 'offer received']\n",
    "viewed = transcript[transcript['event'] == 'offer viewed']\n",
    "transaction = transcript[transcript['event'] == 'transaction']\n",
    "completed = transcript[transcript['event'] == 'offer completed']"
   ]
  },
  {
   "cell_type": "code",
   "execution_count": 25,
   "metadata": {},
   "outputs": [],
   "source": [
    "# get offer id/transaction amount from value column\n",
    "received['offer'] = received['value'].apply(lambda x: x['offer id'])\n",
    "received.rename(columns = {'time': 'received time'}, inplace = True)\n",
    "\n",
    "viewed['offer'] = viewed['value'].apply(lambda x: x['offer id'])\n",
    "viewed.rename(columns = {'time': 'viewed time'}, inplace = True)\n",
    "\n",
    "transaction['amount'] = transaction['value'].apply(lambda x: x['amount'])\n",
    "transaction.rename(columns = {'time': 'transaction time'}, inplace = True)\n",
    "\n",
    "completed['offer'] = completed['value'].apply(lambda x: x['offer_id'])\n",
    "completed['act_reward'] = completed['value'].apply(lambda x: x['reward'])\n",
    "completed.rename(columns = {'time': 'completed time'}, inplace = True)"
   ]
  },
  {
   "cell_type": "code",
   "execution_count": 26,
   "metadata": {},
   "outputs": [],
   "source": [
    "received.drop(columns = ['value', 'event'], inplace = True)\n",
    "viewed.drop(columns = ['value', 'event'], inplace = True)\n",
    "transaction.drop(columns = ['value', 'event'], inplace = True)\n",
    "completed.drop(columns = ['value', 'event'], inplace = True)"
   ]
  },
  {
   "cell_type": "markdown",
   "metadata": {},
   "source": [
    "#### Add ```membership days``` to ```profile``` dataframe."
   ]
  },
  {
   "cell_type": "code",
   "execution_count": 27,
   "metadata": {},
   "outputs": [
    {
     "data": {
      "text/plain": [
       "(Timestamp('2018-07-26 00:00:00'), Timestamp('2013-07-29 00:00:00'))"
      ]
     },
     "execution_count": 27,
     "metadata": {},
     "output_type": "execute_result"
    }
   ],
   "source": [
    "# consider the latest date that can be found in the become_a_member column\n",
    "# as the current date\n",
    "profile['became_member_on'] = pd.to_datetime(profile['became_member_on'], format = '%Y%m%d')\n",
    "profile['became_member_on'].max(), profile['became_member_on'].min()"
   ]
  },
  {
   "cell_type": "code",
   "execution_count": 28,
   "metadata": {},
   "outputs": [],
   "source": [
    "# add the number of days a customer has become a member\n",
    "latest_date = datetime.datetime.strptime('2018-07-26', '%Y-%m-%d')\n",
    "profile['membership days'] = profile['became_member_on'].apply(lambda x: (latest_date - x).days)"
   ]
  },
  {
   "cell_type": "markdown",
   "metadata": {},
   "source": [
    "#### Merge and Split dataframes"
   ]
  },
  {
   "cell_type": "code",
   "execution_count": 29,
   "metadata": {},
   "outputs": [],
   "source": [
    "# merge the customer profile data and the offer portfolio data in\n",
    "offers = pd.merge(received, portfolio, left_on = 'offer', right_on = 'id')\n",
    "offers = pd.merge(offers, profile, left_on = 'person', right_on = 'id')\n",
    "offers.drop(columns = ['id_x', 'id_y'], inplace = True)"
   ]
  },
  {
   "cell_type": "code",
   "execution_count": 30,
   "metadata": {},
   "outputs": [
    {
     "data": {
      "text/html": [
       "<div>\n",
       "<style scoped>\n",
       "    .dataframe tbody tr th:only-of-type {\n",
       "        vertical-align: middle;\n",
       "    }\n",
       "\n",
       "    .dataframe tbody tr th {\n",
       "        vertical-align: top;\n",
       "    }\n",
       "\n",
       "    .dataframe thead th {\n",
       "        text-align: right;\n",
       "    }\n",
       "</style>\n",
       "<table border=\"1\" class=\"dataframe\">\n",
       "  <thead>\n",
       "    <tr style=\"text-align: right;\">\n",
       "      <th></th>\n",
       "      <th>person</th>\n",
       "      <th>received time</th>\n",
       "      <th>offer</th>\n",
       "      <th>reward</th>\n",
       "      <th>difficulty</th>\n",
       "      <th>duration</th>\n",
       "      <th>offer_type</th>\n",
       "      <th>web</th>\n",
       "      <th>email</th>\n",
       "      <th>social</th>\n",
       "      <th>mobile</th>\n",
       "      <th>gender</th>\n",
       "      <th>age</th>\n",
       "      <th>became_member_on</th>\n",
       "      <th>income</th>\n",
       "      <th>membership days</th>\n",
       "    </tr>\n",
       "  </thead>\n",
       "  <tbody>\n",
       "    <tr>\n",
       "      <th>0</th>\n",
       "      <td>78afa995795e4d85b5d9ceeca43f5fef</td>\n",
       "      <td>0</td>\n",
       "      <td>9b98b8c7a33c4b65b9aebfe6a799e6d9</td>\n",
       "      <td>5</td>\n",
       "      <td>5</td>\n",
       "      <td>168</td>\n",
       "      <td>bogo</td>\n",
       "      <td>1</td>\n",
       "      <td>1</td>\n",
       "      <td>0</td>\n",
       "      <td>1</td>\n",
       "      <td>1</td>\n",
       "      <td>75</td>\n",
       "      <td>2017-05-09</td>\n",
       "      <td>100000.0</td>\n",
       "      <td>443</td>\n",
       "    </tr>\n",
       "    <tr>\n",
       "      <th>1</th>\n",
       "      <td>78afa995795e4d85b5d9ceeca43f5fef</td>\n",
       "      <td>504</td>\n",
       "      <td>f19421c1d4aa40978ebb69ca19b0e20d</td>\n",
       "      <td>5</td>\n",
       "      <td>5</td>\n",
       "      <td>120</td>\n",
       "      <td>bogo</td>\n",
       "      <td>1</td>\n",
       "      <td>1</td>\n",
       "      <td>1</td>\n",
       "      <td>1</td>\n",
       "      <td>1</td>\n",
       "      <td>75</td>\n",
       "      <td>2017-05-09</td>\n",
       "      <td>100000.0</td>\n",
       "      <td>443</td>\n",
       "    </tr>\n",
       "    <tr>\n",
       "      <th>2</th>\n",
       "      <td>78afa995795e4d85b5d9ceeca43f5fef</td>\n",
       "      <td>408</td>\n",
       "      <td>ae264e3637204a6fb9bb56bc8210ddfd</td>\n",
       "      <td>10</td>\n",
       "      <td>10</td>\n",
       "      <td>168</td>\n",
       "      <td>bogo</td>\n",
       "      <td>0</td>\n",
       "      <td>1</td>\n",
       "      <td>1</td>\n",
       "      <td>1</td>\n",
       "      <td>1</td>\n",
       "      <td>75</td>\n",
       "      <td>2017-05-09</td>\n",
       "      <td>100000.0</td>\n",
       "      <td>443</td>\n",
       "    </tr>\n",
       "  </tbody>\n",
       "</table>\n",
       "</div>"
      ],
      "text/plain": [
       "                             person  received time  \\\n",
       "0  78afa995795e4d85b5d9ceeca43f5fef              0   \n",
       "1  78afa995795e4d85b5d9ceeca43f5fef            504   \n",
       "2  78afa995795e4d85b5d9ceeca43f5fef            408   \n",
       "\n",
       "                              offer  reward  difficulty  duration offer_type  \\\n",
       "0  9b98b8c7a33c4b65b9aebfe6a799e6d9       5           5       168       bogo   \n",
       "1  f19421c1d4aa40978ebb69ca19b0e20d       5           5       120       bogo   \n",
       "2  ae264e3637204a6fb9bb56bc8210ddfd      10          10       168       bogo   \n",
       "\n",
       "   web  email  social  mobile  gender  age became_member_on    income  \\\n",
       "0    1      1       0       1       1   75       2017-05-09  100000.0   \n",
       "1    1      1       1       1       1   75       2017-05-09  100000.0   \n",
       "2    0      1       1       1       1   75       2017-05-09  100000.0   \n",
       "\n",
       "   membership days  \n",
       "0              443  \n",
       "1              443  \n",
       "2              443  "
      ]
     },
     "execution_count": 30,
     "metadata": {},
     "output_type": "execute_result"
    }
   ],
   "source": [
    "offers.head(3)"
   ]
  },
  {
   "cell_type": "code",
   "execution_count": 31,
   "metadata": {},
   "outputs": [],
   "source": [
    "# split all received offers to BOGO, discount and informational subsets\n",
    "bogo = offers[offers['offer_type'] == 'bogo']\n",
    "bogo.reset_index(inplace = True)\n",
    "\n",
    "discount = offers[offers['offer_type'] == 'discount']\n",
    "discount.reset_index(inplace = True)\n",
    "\n",
    "info = offers[offers['offer_type'] == 'informational']\n",
    "info.reset_index(inplace = True)"
   ]
  },
  {
   "cell_type": "markdown",
   "metadata": {},
   "source": [
    "#### Check if an offer was viewed or not. Add ```viewed``` column to ```received``` dataframe."
   ]
  },
  {
   "cell_type": "code",
   "execution_count": 32,
   "metadata": {},
   "outputs": [],
   "source": [
    "def add_view(offers, viewed):\n",
    "    \"\"\"\n",
    "    Check if an offer was viewed by the customer who received it.\n",
    "    \n",
    "    Args: \n",
    "        offers - a dataframe that contains all offers that all customers received\n",
    "        viewed - a dataframe that contains the records of the offers that were\n",
    "                 viewed by customers\n",
    "                 \n",
    "    Returns:\n",
    "        offers - the input dataframe with a new column added, which named 'viewed'\n",
    "                 and indicate whether the corresponding record was viewd by customer\n",
    "                 or not\n",
    "    \"\"\"\n",
    "    \n",
    "    offers['viewed time'] = None\n",
    "    offers['viewed'] = False\n",
    "\n",
    "    for i in range(0, len(offers)):\n",
    "        person, offer, t1, duration = offers.iloc[i,:][['person', 'offer', 'received time', 'duration']]\n",
    "        t2 = t1 + duration\n",
    "        # only offers that were viewed before expiration are considered viewed offers\n",
    "        viewed_records = viewed[(viewed['person'] == person) & (viewed['offer'] == offer) &\n",
    "                         (viewed['viewed time'] >= t1) & (viewed['viewed time'] <= t2)]\n",
    "        \n",
    "        if len(viewed_records) > 0:\n",
    "            offers.loc[i, 'viewed time'] = viewed_records.iloc[0,:]['viewed time']\n",
    "            offers.loc[i, 'viewed'] = True\n",
    "\n",
    "    return offers"
   ]
  },
  {
   "cell_type": "code",
   "execution_count": 33,
   "metadata": {},
   "outputs": [],
   "source": [
    "# add viewed column to the three subsets\n",
    "bogo_viewed = viewed[viewed[['person','offer']].apply(tuple, axis=1)\\\n",
    "                  .isin(bogo[['person','offer']].apply(tuple, axis=1))]\n",
    "bogo = add_view(bogo, bogo_viewed)\n",
    "\n",
    "discount_viewed = viewed[viewed[['person','offer']].apply(tuple, axis=1)\\\n",
    "                  .isin(discount[['person','offer']].apply(tuple, axis=1))]\n",
    "discount = add_view(discount, discount_viewed)\n",
    "\n",
    "info_viewed = viewed[viewed[['person', 'offer']].apply(tuple, axis = 1)\\\n",
    "                    .isin(info[['person', 'offer']].apply(tuple, axis = 1))]\n",
    "info = add_view(info, info_viewed)"
   ]
  },
  {
   "cell_type": "code",
   "execution_count": 34,
   "metadata": {},
   "outputs": [
    {
     "data": {
      "text/html": [
       "<div>\n",
       "<style scoped>\n",
       "    .dataframe tbody tr th:only-of-type {\n",
       "        vertical-align: middle;\n",
       "    }\n",
       "\n",
       "    .dataframe tbody tr th {\n",
       "        vertical-align: top;\n",
       "    }\n",
       "\n",
       "    .dataframe thead th {\n",
       "        text-align: right;\n",
       "    }\n",
       "</style>\n",
       "<table border=\"1\" class=\"dataframe\">\n",
       "  <thead>\n",
       "    <tr style=\"text-align: right;\">\n",
       "      <th></th>\n",
       "      <th>index</th>\n",
       "      <th>person</th>\n",
       "      <th>received time</th>\n",
       "      <th>offer</th>\n",
       "      <th>reward</th>\n",
       "      <th>difficulty</th>\n",
       "      <th>duration</th>\n",
       "      <th>offer_type</th>\n",
       "      <th>web</th>\n",
       "      <th>email</th>\n",
       "      <th>social</th>\n",
       "      <th>mobile</th>\n",
       "      <th>gender</th>\n",
       "      <th>age</th>\n",
       "      <th>became_member_on</th>\n",
       "      <th>income</th>\n",
       "      <th>membership days</th>\n",
       "      <th>viewed time</th>\n",
       "      <th>viewed</th>\n",
       "    </tr>\n",
       "  </thead>\n",
       "  <tbody>\n",
       "    <tr>\n",
       "      <th>0</th>\n",
       "      <td>0</td>\n",
       "      <td>78afa995795e4d85b5d9ceeca43f5fef</td>\n",
       "      <td>0</td>\n",
       "      <td>9b98b8c7a33c4b65b9aebfe6a799e6d9</td>\n",
       "      <td>5</td>\n",
       "      <td>5</td>\n",
       "      <td>168</td>\n",
       "      <td>bogo</td>\n",
       "      <td>1</td>\n",
       "      <td>1</td>\n",
       "      <td>0</td>\n",
       "      <td>1</td>\n",
       "      <td>1</td>\n",
       "      <td>75</td>\n",
       "      <td>2017-05-09</td>\n",
       "      <td>100000.0</td>\n",
       "      <td>443</td>\n",
       "      <td>6</td>\n",
       "      <td>True</td>\n",
       "    </tr>\n",
       "    <tr>\n",
       "      <th>1</th>\n",
       "      <td>1</td>\n",
       "      <td>78afa995795e4d85b5d9ceeca43f5fef</td>\n",
       "      <td>504</td>\n",
       "      <td>f19421c1d4aa40978ebb69ca19b0e20d</td>\n",
       "      <td>5</td>\n",
       "      <td>5</td>\n",
       "      <td>120</td>\n",
       "      <td>bogo</td>\n",
       "      <td>1</td>\n",
       "      <td>1</td>\n",
       "      <td>1</td>\n",
       "      <td>1</td>\n",
       "      <td>1</td>\n",
       "      <td>75</td>\n",
       "      <td>2017-05-09</td>\n",
       "      <td>100000.0</td>\n",
       "      <td>443</td>\n",
       "      <td>582</td>\n",
       "      <td>True</td>\n",
       "    </tr>\n",
       "    <tr>\n",
       "      <th>2</th>\n",
       "      <td>2</td>\n",
       "      <td>78afa995795e4d85b5d9ceeca43f5fef</td>\n",
       "      <td>408</td>\n",
       "      <td>ae264e3637204a6fb9bb56bc8210ddfd</td>\n",
       "      <td>10</td>\n",
       "      <td>10</td>\n",
       "      <td>168</td>\n",
       "      <td>bogo</td>\n",
       "      <td>0</td>\n",
       "      <td>1</td>\n",
       "      <td>1</td>\n",
       "      <td>1</td>\n",
       "      <td>1</td>\n",
       "      <td>75</td>\n",
       "      <td>2017-05-09</td>\n",
       "      <td>100000.0</td>\n",
       "      <td>443</td>\n",
       "      <td>408</td>\n",
       "      <td>True</td>\n",
       "    </tr>\n",
       "    <tr>\n",
       "      <th>3</th>\n",
       "      <td>4</td>\n",
       "      <td>ebe7ef46ea6f4963a7dd49f501b26779</td>\n",
       "      <td>0</td>\n",
       "      <td>9b98b8c7a33c4b65b9aebfe6a799e6d9</td>\n",
       "      <td>5</td>\n",
       "      <td>5</td>\n",
       "      <td>168</td>\n",
       "      <td>bogo</td>\n",
       "      <td>1</td>\n",
       "      <td>1</td>\n",
       "      <td>0</td>\n",
       "      <td>1</td>\n",
       "      <td>0</td>\n",
       "      <td>59</td>\n",
       "      <td>2015-01-21</td>\n",
       "      <td>41000.0</td>\n",
       "      <td>1282</td>\n",
       "      <td>None</td>\n",
       "      <td>False</td>\n",
       "    </tr>\n",
       "    <tr>\n",
       "      <th>4</th>\n",
       "      <td>5</td>\n",
       "      <td>ebe7ef46ea6f4963a7dd49f501b26779</td>\n",
       "      <td>576</td>\n",
       "      <td>9b98b8c7a33c4b65b9aebfe6a799e6d9</td>\n",
       "      <td>5</td>\n",
       "      <td>5</td>\n",
       "      <td>168</td>\n",
       "      <td>bogo</td>\n",
       "      <td>1</td>\n",
       "      <td>1</td>\n",
       "      <td>0</td>\n",
       "      <td>1</td>\n",
       "      <td>0</td>\n",
       "      <td>59</td>\n",
       "      <td>2015-01-21</td>\n",
       "      <td>41000.0</td>\n",
       "      <td>1282</td>\n",
       "      <td>714</td>\n",
       "      <td>True</td>\n",
       "    </tr>\n",
       "  </tbody>\n",
       "</table>\n",
       "</div>"
      ],
      "text/plain": [
       "   index                            person  received time  \\\n",
       "0      0  78afa995795e4d85b5d9ceeca43f5fef              0   \n",
       "1      1  78afa995795e4d85b5d9ceeca43f5fef            504   \n",
       "2      2  78afa995795e4d85b5d9ceeca43f5fef            408   \n",
       "3      4  ebe7ef46ea6f4963a7dd49f501b26779              0   \n",
       "4      5  ebe7ef46ea6f4963a7dd49f501b26779            576   \n",
       "\n",
       "                              offer  reward  difficulty  duration offer_type  \\\n",
       "0  9b98b8c7a33c4b65b9aebfe6a799e6d9       5           5       168       bogo   \n",
       "1  f19421c1d4aa40978ebb69ca19b0e20d       5           5       120       bogo   \n",
       "2  ae264e3637204a6fb9bb56bc8210ddfd      10          10       168       bogo   \n",
       "3  9b98b8c7a33c4b65b9aebfe6a799e6d9       5           5       168       bogo   \n",
       "4  9b98b8c7a33c4b65b9aebfe6a799e6d9       5           5       168       bogo   \n",
       "\n",
       "   web  email  social  mobile  gender  age became_member_on    income  \\\n",
       "0    1      1       0       1       1   75       2017-05-09  100000.0   \n",
       "1    1      1       1       1       1   75       2017-05-09  100000.0   \n",
       "2    0      1       1       1       1   75       2017-05-09  100000.0   \n",
       "3    1      1       0       1       0   59       2015-01-21   41000.0   \n",
       "4    1      1       0       1       0   59       2015-01-21   41000.0   \n",
       "\n",
       "   membership days viewed time  viewed  \n",
       "0              443           6    True  \n",
       "1              443         582    True  \n",
       "2              443         408    True  \n",
       "3             1282        None   False  \n",
       "4             1282         714    True  "
      ]
     },
     "execution_count": 34,
     "metadata": {},
     "output_type": "execute_result"
    }
   ],
   "source": [
    "bogo.head()"
   ]
  },
  {
   "cell_type": "markdown",
   "metadata": {},
   "source": [
    "#### Check if an offer was completed or not. Add ```completed``` column to ```received``` dataframe."
   ]
  },
  {
   "cell_type": "markdown",
   "metadata": {},
   "source": [
    "For BOGO and discount, an offer is considered completed if it was viewd and the complete time is later than the viewed time and expiration time.\n",
    "\n",
    "For informational ads, since there is no minimum consumption amount, an offer is considered completed if it was viewed and there is at least transaction record before the expiration."
   ]
  },
  {
   "cell_type": "code",
   "execution_count": 35,
   "metadata": {},
   "outputs": [],
   "source": [
    "def add_complete(offers, completed):\n",
    "    \"\"\"\n",
    "    Check if a BOGO/discount offer was completed by the customer who received it.\n",
    "    \n",
    "    Args: \n",
    "        offers - a dataframe that contains all BOGO/discount offers that all customers received\n",
    "        completed - a dataframe that contains the records of the offers that got the\n",
    "                 minimum amount required to complete the corresponding offers\n",
    "                 \n",
    "    Returns:\n",
    "        offers - the input dataframe with a new column added, which named 'completed'\n",
    "                 and indicate whether the corresponding record was completed by customer\n",
    "                 or not\n",
    "    \"\"\"\n",
    "    \n",
    "    offers['completed time'] = None\n",
    "    offers['completed'] = False\n",
    "    \n",
    "    for i in range(0, len(offers)):\n",
    "        # only for viewed offers\n",
    "        if offers.iloc[i, :]['viewed']:\n",
    "            person, offer, t1, duration, viewed_time = offers.iloc[i,:][['person', 'offer', 'received time', 'duration', 'viewed time']]\n",
    "            t2 = t1 + duration\n",
    "            # only offers that were viewed and completed before expiration \n",
    "            # are considered completed offers\n",
    "            completed_records = completed[(completed['person'] == person) & (completed['offer'] == offer) &\n",
    "                             (completed['completed time'] <= t2) & (completed['completed time'] >= viewed_time)]\n",
    "        \n",
    "            if len(completed_records) > 0:\n",
    "                offers.loc[i, 'completed time'] = completed_records.iloc[0,:]['completed time']\n",
    "                offers.loc[i, 'completed'] = True\n",
    "\n",
    "    return offers"
   ]
  },
  {
   "cell_type": "code",
   "execution_count": 36,
   "metadata": {},
   "outputs": [],
   "source": [
    "# add complete column to BOGO and discount subsets\n",
    "bogo_cmplt = completed[completed[['person','offer']].apply(tuple, axis=1)\\\n",
    "                  .isin(bogo[['person','offer']].apply(tuple, axis=1))]\n",
    "bogo = add_complete(bogo, bogo_cmplt)\n",
    "\n",
    "discount_cmplt = completed[completed[['person','offer']].apply(tuple, axis=1)\\\n",
    "                  .isin(discount[['person','offer']].apply(tuple, axis=1))]\n",
    "discount = add_complete(discount, discount_cmplt)"
   ]
  },
  {
   "cell_type": "code",
   "execution_count": 37,
   "metadata": {},
   "outputs": [
    {
     "data": {
      "text/html": [
       "<div>\n",
       "<style scoped>\n",
       "    .dataframe tbody tr th:only-of-type {\n",
       "        vertical-align: middle;\n",
       "    }\n",
       "\n",
       "    .dataframe tbody tr th {\n",
       "        vertical-align: top;\n",
       "    }\n",
       "\n",
       "    .dataframe thead th {\n",
       "        text-align: right;\n",
       "    }\n",
       "</style>\n",
       "<table border=\"1\" class=\"dataframe\">\n",
       "  <thead>\n",
       "    <tr style=\"text-align: right;\">\n",
       "      <th></th>\n",
       "      <th>index</th>\n",
       "      <th>person</th>\n",
       "      <th>received time</th>\n",
       "      <th>offer</th>\n",
       "      <th>reward</th>\n",
       "      <th>difficulty</th>\n",
       "      <th>duration</th>\n",
       "      <th>offer_type</th>\n",
       "      <th>web</th>\n",
       "      <th>email</th>\n",
       "      <th>...</th>\n",
       "      <th>mobile</th>\n",
       "      <th>gender</th>\n",
       "      <th>age</th>\n",
       "      <th>became_member_on</th>\n",
       "      <th>income</th>\n",
       "      <th>membership days</th>\n",
       "      <th>viewed time</th>\n",
       "      <th>viewed</th>\n",
       "      <th>completed time</th>\n",
       "      <th>completed</th>\n",
       "    </tr>\n",
       "  </thead>\n",
       "  <tbody>\n",
       "    <tr>\n",
       "      <th>0</th>\n",
       "      <td>0</td>\n",
       "      <td>78afa995795e4d85b5d9ceeca43f5fef</td>\n",
       "      <td>0</td>\n",
       "      <td>9b98b8c7a33c4b65b9aebfe6a799e6d9</td>\n",
       "      <td>5</td>\n",
       "      <td>5</td>\n",
       "      <td>168</td>\n",
       "      <td>bogo</td>\n",
       "      <td>1</td>\n",
       "      <td>1</td>\n",
       "      <td>...</td>\n",
       "      <td>1</td>\n",
       "      <td>1</td>\n",
       "      <td>75</td>\n",
       "      <td>2017-05-09</td>\n",
       "      <td>100000.0</td>\n",
       "      <td>443</td>\n",
       "      <td>6</td>\n",
       "      <td>True</td>\n",
       "      <td>132</td>\n",
       "      <td>True</td>\n",
       "    </tr>\n",
       "    <tr>\n",
       "      <th>1</th>\n",
       "      <td>1</td>\n",
       "      <td>78afa995795e4d85b5d9ceeca43f5fef</td>\n",
       "      <td>504</td>\n",
       "      <td>f19421c1d4aa40978ebb69ca19b0e20d</td>\n",
       "      <td>5</td>\n",
       "      <td>5</td>\n",
       "      <td>120</td>\n",
       "      <td>bogo</td>\n",
       "      <td>1</td>\n",
       "      <td>1</td>\n",
       "      <td>...</td>\n",
       "      <td>1</td>\n",
       "      <td>1</td>\n",
       "      <td>75</td>\n",
       "      <td>2017-05-09</td>\n",
       "      <td>100000.0</td>\n",
       "      <td>443</td>\n",
       "      <td>582</td>\n",
       "      <td>True</td>\n",
       "      <td>None</td>\n",
       "      <td>False</td>\n",
       "    </tr>\n",
       "    <tr>\n",
       "      <th>2</th>\n",
       "      <td>2</td>\n",
       "      <td>78afa995795e4d85b5d9ceeca43f5fef</td>\n",
       "      <td>408</td>\n",
       "      <td>ae264e3637204a6fb9bb56bc8210ddfd</td>\n",
       "      <td>10</td>\n",
       "      <td>10</td>\n",
       "      <td>168</td>\n",
       "      <td>bogo</td>\n",
       "      <td>0</td>\n",
       "      <td>1</td>\n",
       "      <td>...</td>\n",
       "      <td>1</td>\n",
       "      <td>1</td>\n",
       "      <td>75</td>\n",
       "      <td>2017-05-09</td>\n",
       "      <td>100000.0</td>\n",
       "      <td>443</td>\n",
       "      <td>408</td>\n",
       "      <td>True</td>\n",
       "      <td>510</td>\n",
       "      <td>True</td>\n",
       "    </tr>\n",
       "    <tr>\n",
       "      <th>3</th>\n",
       "      <td>4</td>\n",
       "      <td>ebe7ef46ea6f4963a7dd49f501b26779</td>\n",
       "      <td>0</td>\n",
       "      <td>9b98b8c7a33c4b65b9aebfe6a799e6d9</td>\n",
       "      <td>5</td>\n",
       "      <td>5</td>\n",
       "      <td>168</td>\n",
       "      <td>bogo</td>\n",
       "      <td>1</td>\n",
       "      <td>1</td>\n",
       "      <td>...</td>\n",
       "      <td>1</td>\n",
       "      <td>0</td>\n",
       "      <td>59</td>\n",
       "      <td>2015-01-21</td>\n",
       "      <td>41000.0</td>\n",
       "      <td>1282</td>\n",
       "      <td>None</td>\n",
       "      <td>False</td>\n",
       "      <td>None</td>\n",
       "      <td>False</td>\n",
       "    </tr>\n",
       "    <tr>\n",
       "      <th>4</th>\n",
       "      <td>5</td>\n",
       "      <td>ebe7ef46ea6f4963a7dd49f501b26779</td>\n",
       "      <td>576</td>\n",
       "      <td>9b98b8c7a33c4b65b9aebfe6a799e6d9</td>\n",
       "      <td>5</td>\n",
       "      <td>5</td>\n",
       "      <td>168</td>\n",
       "      <td>bogo</td>\n",
       "      <td>1</td>\n",
       "      <td>1</td>\n",
       "      <td>...</td>\n",
       "      <td>1</td>\n",
       "      <td>0</td>\n",
       "      <td>59</td>\n",
       "      <td>2015-01-21</td>\n",
       "      <td>41000.0</td>\n",
       "      <td>1282</td>\n",
       "      <td>714</td>\n",
       "      <td>True</td>\n",
       "      <td>None</td>\n",
       "      <td>False</td>\n",
       "    </tr>\n",
       "  </tbody>\n",
       "</table>\n",
       "<p>5 rows × 21 columns</p>\n",
       "</div>"
      ],
      "text/plain": [
       "   index                            person  received time  \\\n",
       "0      0  78afa995795e4d85b5d9ceeca43f5fef              0   \n",
       "1      1  78afa995795e4d85b5d9ceeca43f5fef            504   \n",
       "2      2  78afa995795e4d85b5d9ceeca43f5fef            408   \n",
       "3      4  ebe7ef46ea6f4963a7dd49f501b26779              0   \n",
       "4      5  ebe7ef46ea6f4963a7dd49f501b26779            576   \n",
       "\n",
       "                              offer  reward  difficulty  duration offer_type  \\\n",
       "0  9b98b8c7a33c4b65b9aebfe6a799e6d9       5           5       168       bogo   \n",
       "1  f19421c1d4aa40978ebb69ca19b0e20d       5           5       120       bogo   \n",
       "2  ae264e3637204a6fb9bb56bc8210ddfd      10          10       168       bogo   \n",
       "3  9b98b8c7a33c4b65b9aebfe6a799e6d9       5           5       168       bogo   \n",
       "4  9b98b8c7a33c4b65b9aebfe6a799e6d9       5           5       168       bogo   \n",
       "\n",
       "   web  email  ...  mobile  gender  age  became_member_on    income  \\\n",
       "0    1      1  ...       1       1   75        2017-05-09  100000.0   \n",
       "1    1      1  ...       1       1   75        2017-05-09  100000.0   \n",
       "2    0      1  ...       1       1   75        2017-05-09  100000.0   \n",
       "3    1      1  ...       1       0   59        2015-01-21   41000.0   \n",
       "4    1      1  ...       1       0   59        2015-01-21   41000.0   \n",
       "\n",
       "   membership days  viewed time viewed  completed time completed  \n",
       "0              443            6   True             132      True  \n",
       "1              443          582   True            None     False  \n",
       "2              443          408   True             510      True  \n",
       "3             1282         None  False            None     False  \n",
       "4             1282          714   True            None     False  \n",
       "\n",
       "[5 rows x 21 columns]"
      ]
     },
     "execution_count": 37,
     "metadata": {},
     "output_type": "execute_result"
    }
   ],
   "source": [
    "bogo.head()"
   ]
  },
  {
   "cell_type": "code",
   "execution_count": 38,
   "metadata": {},
   "outputs": [],
   "source": [
    "def add_complete_info(offers, transactions):\n",
    "    \"\"\"\n",
    "    Check if an informational offer was completed by the customer who received it.\n",
    "    \n",
    "    Args: \n",
    "        offers - a dataframe that contains all informational offers that all customers received\n",
    "        transactions - a dataframe that contains all transaction records\n",
    "        \n",
    "    Returns:\n",
    "        offers - the input dataframe with a new column added, which named 'completed'\n",
    "                 and indicate whether the corresponding record was completed by customer\n",
    "                 or not\n",
    "    \"\"\"\n",
    "    \n",
    "    # find transactions happened after the offer was viewed and before the expiration\n",
    "    offers['amount'] = 0\n",
    "    offers['completed'] = False\n",
    "    \n",
    "    for i in range(0, len(offers)):\n",
    "        record = offers.iloc[i, :]\n",
    "        # only for viewed offers\n",
    "        if record['viewed']:\n",
    "            person, received, viewed, duration = record['person'], record['received time'], record['viewed time'], record['duration']\n",
    "\n",
    "            # transactions finished by the user\n",
    "            trans_rec = transactions[transactions['person'] == person]\n",
    "\n",
    "            if record['viewed'] and len(trans_rec) > 0:\n",
    "                # completed transactions in the offer time window\n",
    "                trans_rec = trans_rec[(trans_rec['transaction time'] >= viewed) & \n",
    "                                     (trans_rec['transaction time'] <= received + duration)]\n",
    "                if len(trans_rec) > 0:\n",
    "                    offers.loc[i, 'completed'] = True\n",
    "                    offers.loc[i, 'amount'] += np.sum(trans_rec['amount'].values)\n",
    "    \n",
    "    return offers"
   ]
  },
  {
   "cell_type": "code",
   "execution_count": 39,
   "metadata": {},
   "outputs": [],
   "source": [
    "# extract transactions finished only by users who got informational offers\n",
    "trans_info = transaction[transaction['person'].isin(info['person'])]\n",
    "# add completed column to info subset\n",
    "info = add_complete_info(info, trans_info)"
   ]
  },
  {
   "cell_type": "code",
   "execution_count": 40,
   "metadata": {},
   "outputs": [
    {
     "data": {
      "text/html": [
       "<div>\n",
       "<style scoped>\n",
       "    .dataframe tbody tr th:only-of-type {\n",
       "        vertical-align: middle;\n",
       "    }\n",
       "\n",
       "    .dataframe tbody tr th {\n",
       "        vertical-align: top;\n",
       "    }\n",
       "\n",
       "    .dataframe thead th {\n",
       "        text-align: right;\n",
       "    }\n",
       "</style>\n",
       "<table border=\"1\" class=\"dataframe\">\n",
       "  <thead>\n",
       "    <tr style=\"text-align: right;\">\n",
       "      <th></th>\n",
       "      <th>index</th>\n",
       "      <th>person</th>\n",
       "      <th>received time</th>\n",
       "      <th>offer</th>\n",
       "      <th>reward</th>\n",
       "      <th>difficulty</th>\n",
       "      <th>duration</th>\n",
       "      <th>offer_type</th>\n",
       "      <th>web</th>\n",
       "      <th>email</th>\n",
       "      <th>...</th>\n",
       "      <th>mobile</th>\n",
       "      <th>gender</th>\n",
       "      <th>age</th>\n",
       "      <th>became_member_on</th>\n",
       "      <th>income</th>\n",
       "      <th>membership days</th>\n",
       "      <th>viewed time</th>\n",
       "      <th>viewed</th>\n",
       "      <th>amount</th>\n",
       "      <th>completed</th>\n",
       "    </tr>\n",
       "  </thead>\n",
       "  <tbody>\n",
       "    <tr>\n",
       "      <th>0</th>\n",
       "      <td>3</td>\n",
       "      <td>78afa995795e4d85b5d9ceeca43f5fef</td>\n",
       "      <td>168</td>\n",
       "      <td>5a8bc65990b245e5a138643cd4eb9837</td>\n",
       "      <td>0</td>\n",
       "      <td>0</td>\n",
       "      <td>72</td>\n",
       "      <td>informational</td>\n",
       "      <td>0</td>\n",
       "      <td>1</td>\n",
       "      <td>...</td>\n",
       "      <td>1</td>\n",
       "      <td>1</td>\n",
       "      <td>75</td>\n",
       "      <td>2017-05-09</td>\n",
       "      <td>100000.0</td>\n",
       "      <td>443</td>\n",
       "      <td>216</td>\n",
       "      <td>True</td>\n",
       "      <td>49.39</td>\n",
       "      <td>True</td>\n",
       "    </tr>\n",
       "    <tr>\n",
       "      <th>1</th>\n",
       "      <td>8</td>\n",
       "      <td>ebe7ef46ea6f4963a7dd49f501b26779</td>\n",
       "      <td>336</td>\n",
       "      <td>5a8bc65990b245e5a138643cd4eb9837</td>\n",
       "      <td>0</td>\n",
       "      <td>0</td>\n",
       "      <td>72</td>\n",
       "      <td>informational</td>\n",
       "      <td>0</td>\n",
       "      <td>1</td>\n",
       "      <td>...</td>\n",
       "      <td>1</td>\n",
       "      <td>0</td>\n",
       "      <td>59</td>\n",
       "      <td>2015-01-21</td>\n",
       "      <td>41000.0</td>\n",
       "      <td>1282</td>\n",
       "      <td>342</td>\n",
       "      <td>True</td>\n",
       "      <td>7.72</td>\n",
       "      <td>True</td>\n",
       "    </tr>\n",
       "    <tr>\n",
       "      <th>2</th>\n",
       "      <td>9</td>\n",
       "      <td>ebe7ef46ea6f4963a7dd49f501b26779</td>\n",
       "      <td>504</td>\n",
       "      <td>5a8bc65990b245e5a138643cd4eb9837</td>\n",
       "      <td>0</td>\n",
       "      <td>0</td>\n",
       "      <td>72</td>\n",
       "      <td>informational</td>\n",
       "      <td>0</td>\n",
       "      <td>1</td>\n",
       "      <td>...</td>\n",
       "      <td>1</td>\n",
       "      <td>0</td>\n",
       "      <td>59</td>\n",
       "      <td>2015-01-21</td>\n",
       "      <td>41000.0</td>\n",
       "      <td>1282</td>\n",
       "      <td>546</td>\n",
       "      <td>True</td>\n",
       "      <td>2.32</td>\n",
       "      <td>True</td>\n",
       "    </tr>\n",
       "    <tr>\n",
       "      <th>3</th>\n",
       "      <td>15</td>\n",
       "      <td>f082d80f0aac47a99173ba8ef8fc1909</td>\n",
       "      <td>168</td>\n",
       "      <td>5a8bc65990b245e5a138643cd4eb9837</td>\n",
       "      <td>0</td>\n",
       "      <td>0</td>\n",
       "      <td>72</td>\n",
       "      <td>informational</td>\n",
       "      <td>0</td>\n",
       "      <td>1</td>\n",
       "      <td>...</td>\n",
       "      <td>1</td>\n",
       "      <td>0</td>\n",
       "      <td>40</td>\n",
       "      <td>2016-07-09</td>\n",
       "      <td>33000.0</td>\n",
       "      <td>747</td>\n",
       "      <td>228</td>\n",
       "      <td>True</td>\n",
       "      <td>0.00</td>\n",
       "      <td>False</td>\n",
       "    </tr>\n",
       "    <tr>\n",
       "      <th>4</th>\n",
       "      <td>20</td>\n",
       "      <td>c0d210398dee4a0895b24444a5fcd1d2</td>\n",
       "      <td>504</td>\n",
       "      <td>3f207df678b143eea3cee63160fa8bed</td>\n",
       "      <td>0</td>\n",
       "      <td>0</td>\n",
       "      <td>96</td>\n",
       "      <td>informational</td>\n",
       "      <td>1</td>\n",
       "      <td>1</td>\n",
       "      <td>...</td>\n",
       "      <td>1</td>\n",
       "      <td>0</td>\n",
       "      <td>45</td>\n",
       "      <td>2018-07-07</td>\n",
       "      <td>33000.0</td>\n",
       "      <td>19</td>\n",
       "      <td>522</td>\n",
       "      <td>True</td>\n",
       "      <td>11.25</td>\n",
       "      <td>True</td>\n",
       "    </tr>\n",
       "  </tbody>\n",
       "</table>\n",
       "<p>5 rows × 21 columns</p>\n",
       "</div>"
      ],
      "text/plain": [
       "   index                            person  received time  \\\n",
       "0      3  78afa995795e4d85b5d9ceeca43f5fef            168   \n",
       "1      8  ebe7ef46ea6f4963a7dd49f501b26779            336   \n",
       "2      9  ebe7ef46ea6f4963a7dd49f501b26779            504   \n",
       "3     15  f082d80f0aac47a99173ba8ef8fc1909            168   \n",
       "4     20  c0d210398dee4a0895b24444a5fcd1d2            504   \n",
       "\n",
       "                              offer  reward  difficulty  duration  \\\n",
       "0  5a8bc65990b245e5a138643cd4eb9837       0           0        72   \n",
       "1  5a8bc65990b245e5a138643cd4eb9837       0           0        72   \n",
       "2  5a8bc65990b245e5a138643cd4eb9837       0           0        72   \n",
       "3  5a8bc65990b245e5a138643cd4eb9837       0           0        72   \n",
       "4  3f207df678b143eea3cee63160fa8bed       0           0        96   \n",
       "\n",
       "      offer_type  web  email  ...  mobile  gender  age  became_member_on  \\\n",
       "0  informational    0      1  ...       1       1   75        2017-05-09   \n",
       "1  informational    0      1  ...       1       0   59        2015-01-21   \n",
       "2  informational    0      1  ...       1       0   59        2015-01-21   \n",
       "3  informational    0      1  ...       1       0   40        2016-07-09   \n",
       "4  informational    1      1  ...       1       0   45        2018-07-07   \n",
       "\n",
       "     income  membership days  viewed time viewed  amount  completed  \n",
       "0  100000.0              443          216   True   49.39       True  \n",
       "1   41000.0             1282          342   True    7.72       True  \n",
       "2   41000.0             1282          546   True    2.32       True  \n",
       "3   33000.0              747          228   True    0.00      False  \n",
       "4   33000.0               19          522   True   11.25       True  \n",
       "\n",
       "[5 rows x 21 columns]"
      ]
     },
     "execution_count": 40,
     "metadata": {},
     "output_type": "execute_result"
    }
   ],
   "source": [
    "info.head()"
   ]
  },
  {
   "cell_type": "markdown",
   "metadata": {},
   "source": [
    "#### Add transaction amount during and beyond the offer active time window."
   ]
  },
  {
   "cell_type": "markdown",
   "metadata": {},
   "source": [
    "We are only interested in the customers who have ever received offers, which is a subset of the customers in ```profile``` dataset."
   ]
  },
  {
   "cell_type": "code",
   "execution_count": 41,
   "metadata": {},
   "outputs": [],
   "source": [
    "def add_transaction(offers, transaction, profile):\n",
    "    \"\"\"\n",
    "    Add the amount that the customer spend when there was an active offer, \n",
    "    and the amount that the customer spend when there was no active offer.\n",
    "    \n",
    "    Args:\n",
    "        offers - a dataframe that contains offers completed by customers\n",
    "        transaction - a dataframe that contains all transactions made by customers\n",
    "        profile - a dataframe that contains the profile of customers who have ever\n",
    "                  received offers\n",
    "                  \n",
    "    Returns:\n",
    "        profile - the input dataframe with two new columns. \"amount (offer)\" is the\n",
    "                  amount a customer spend for an offer; \"amount (no offer)\" is the \n",
    "                  amount a customer spend without an offer.\n",
    "    \"\"\"\n",
    "    \n",
    "    profile['amount (offer)'] = 0\n",
    "    profile['amount (no offer)'] = 0\n",
    "    \n",
    "    for i in range(len(profile)):\n",
    "        person = profile.iloc[i, :]['id']\n",
    "        transaction_i = transaction[transaction['person'] == person]\n",
    "        completed_i = offers[offers['person'] == person]\n",
    "        offer_windows = completed_i[['viewed time', 'completed time']].values\n",
    "        \n",
    "        if len(transaction_i) > 0:\n",
    "            # check if a transaction is within the window of a completed offer\n",
    "            for j in range(len(transaction_i)):\n",
    "                boolean = False\n",
    "                transaction_time = transaction_i.iloc[j, :]['transaction time']\n",
    "                transaction_amount = transaction_i.iloc[j, :]['amount']\n",
    "                for window in offer_windows:\n",
    "                    if transaction_time >= window[0] and transaction_time <= window[1]:\n",
    "                        profile.loc[i, 'amount (offer)'] += transaction_amount\n",
    "                        boolean = True\n",
    "                        break\n",
    "                if not boolean:\n",
    "                    profile.loc[i, 'amount (no offer)'] += transaction_amount\n",
    "                    \n",
    "    return profile"
   ]
  },
  {
   "cell_type": "code",
   "execution_count": 42,
   "metadata": {},
   "outputs": [
    {
     "data": {
      "text/html": [
       "<div>\n",
       "<style scoped>\n",
       "    .dataframe tbody tr th:only-of-type {\n",
       "        vertical-align: middle;\n",
       "    }\n",
       "\n",
       "    .dataframe tbody tr th {\n",
       "        vertical-align: top;\n",
       "    }\n",
       "\n",
       "    .dataframe thead th {\n",
       "        text-align: right;\n",
       "    }\n",
       "</style>\n",
       "<table border=\"1\" class=\"dataframe\">\n",
       "  <thead>\n",
       "    <tr style=\"text-align: right;\">\n",
       "      <th></th>\n",
       "      <th>level_0</th>\n",
       "      <th>index</th>\n",
       "      <th>gender</th>\n",
       "      <th>age</th>\n",
       "      <th>id</th>\n",
       "      <th>became_member_on</th>\n",
       "      <th>income</th>\n",
       "      <th>membership days</th>\n",
       "      <th>amount (offer)</th>\n",
       "      <th>amount (no offer)</th>\n",
       "    </tr>\n",
       "  </thead>\n",
       "  <tbody>\n",
       "    <tr>\n",
       "      <th>0</th>\n",
       "      <td>0</td>\n",
       "      <td>1</td>\n",
       "      <td>1</td>\n",
       "      <td>55</td>\n",
       "      <td>0610b486422d4921ae7d2bf64640c50b</td>\n",
       "      <td>2017-07-15</td>\n",
       "      <td>112000.0</td>\n",
       "      <td>376</td>\n",
       "      <td>0.00</td>\n",
       "      <td>77.01</td>\n",
       "    </tr>\n",
       "    <tr>\n",
       "      <th>1</th>\n",
       "      <td>1</td>\n",
       "      <td>3</td>\n",
       "      <td>1</td>\n",
       "      <td>75</td>\n",
       "      <td>78afa995795e4d85b5d9ceeca43f5fef</td>\n",
       "      <td>2017-05-09</td>\n",
       "      <td>100000.0</td>\n",
       "      <td>443</td>\n",
       "      <td>41.61</td>\n",
       "      <td>117.66</td>\n",
       "    </tr>\n",
       "    <tr>\n",
       "      <th>2</th>\n",
       "      <td>2</td>\n",
       "      <td>5</td>\n",
       "      <td>0</td>\n",
       "      <td>68</td>\n",
       "      <td>e2127556f4f64592b11af22de27a7932</td>\n",
       "      <td>2018-04-26</td>\n",
       "      <td>70000.0</td>\n",
       "      <td>91</td>\n",
       "      <td>18.42</td>\n",
       "      <td>39.31</td>\n",
       "    </tr>\n",
       "    <tr>\n",
       "      <th>3</th>\n",
       "      <td>3</td>\n",
       "      <td>8</td>\n",
       "      <td>0</td>\n",
       "      <td>65</td>\n",
       "      <td>389bc3fa690240e798340f5a15918d5c</td>\n",
       "      <td>2018-02-09</td>\n",
       "      <td>53000.0</td>\n",
       "      <td>167</td>\n",
       "      <td>36.43</td>\n",
       "      <td>0.00</td>\n",
       "    </tr>\n",
       "    <tr>\n",
       "      <th>4</th>\n",
       "      <td>4</td>\n",
       "      <td>12</td>\n",
       "      <td>0</td>\n",
       "      <td>58</td>\n",
       "      <td>2eeac8d8feae4a8cad5a6af0499a211d</td>\n",
       "      <td>2017-11-11</td>\n",
       "      <td>51000.0</td>\n",
       "      <td>257</td>\n",
       "      <td>12.43</td>\n",
       "      <td>3.19</td>\n",
       "    </tr>\n",
       "  </tbody>\n",
       "</table>\n",
       "</div>"
      ],
      "text/plain": [
       "   level_0  index  gender  age                                id  \\\n",
       "0        0      1       1   55  0610b486422d4921ae7d2bf64640c50b   \n",
       "1        1      3       1   75  78afa995795e4d85b5d9ceeca43f5fef   \n",
       "2        2      5       0   68  e2127556f4f64592b11af22de27a7932   \n",
       "3        3      8       0   65  389bc3fa690240e798340f5a15918d5c   \n",
       "4        4     12       0   58  2eeac8d8feae4a8cad5a6af0499a211d   \n",
       "\n",
       "  became_member_on    income  membership days  amount (offer)  \\\n",
       "0       2017-07-15  112000.0              376            0.00   \n",
       "1       2017-05-09  100000.0              443           41.61   \n",
       "2       2018-04-26   70000.0               91           18.42   \n",
       "3       2018-02-09   53000.0              167           36.43   \n",
       "4       2017-11-11   51000.0              257           12.43   \n",
       "\n",
       "   amount (no offer)  \n",
       "0              77.01  \n",
       "1             117.66  \n",
       "2              39.31  \n",
       "3               0.00  \n",
       "4               3.19  "
      ]
     },
     "execution_count": 42,
     "metadata": {},
     "output_type": "execute_result"
    }
   ],
   "source": [
    "# all completed records\n",
    "bogo_cmplt = bogo[bogo['completed'] == 1]\n",
    "discount_cmplt = discount[discount['completed'] == 1]\n",
    "info_cmplt = info[info['completed'] == 1]\n",
    "cmplt_sub = pd.concat([bogo_cmplt, discount_cmplt, info_cmplt])\n",
    "\n",
    "profile.reset_index(inplace = True)\n",
    "profile_sub = profile[profile['id'].isin(received['person'])]\n",
    "profile_sub.reset_index(inplace = True)\n",
    "profile_sub = add_transaction(cmplt_sub, transaction, profile_sub)\n",
    "profile_sub.head()"
   ]
  },
  {
   "cell_type": "markdown",
   "metadata": {},
   "source": [
    "### Exploratory Data Analysis"
   ]
  },
  {
   "cell_type": "markdown",
   "metadata": {},
   "source": [
    "Before diving into the mathematical modeling, we can perform some qualitative exploratory data analysis. This may provide us with takeaways for answering the questions we are interested in.\n",
    "\n",
    "In this experiment, the number of released information offers is less than the BOGO and discount offers. The completion rate of the offers is less than 50%."
   ]
  },
  {
   "cell_type": "code",
   "execution_count": 43,
   "metadata": {},
   "outputs": [
    {
     "data": {
      "image/png": "[encoded data removed]",
      "text/plain": [
       "<Figure size 1800x432 with 3 Axes>"
      ]
     },
     "metadata": {},
     "output_type": "display_data"
    }
   ],
   "source": [
    "fig = plt.figure(figsize = (25, 6))\n",
    "axs = []\n",
    "\n",
    "def my_fmt_1(x):\n",
    "    \"\"\"formater of values in pie chart\"\"\"\n",
    "    return '{:.2f}%\\n({:0g})'.format(x, int(x*len(offers)/100))\n",
    "\n",
    "def my_fmt_2(x):\n",
    "    \"\"\"formater of values in pie chart\"\"\"\n",
    "    return '{:.2f}%\\n({:0g})'.format(x, int(x*sum(cmplt_type)/100))\n",
    "\n",
    "cmap = plt.get_cmap('tab20c')\n",
    "\n",
    "\n",
    "# plot the number of release offers of each type in proportion to the total\n",
    "# number of released offers\n",
    "axs.append(fig.add_subplot(131))\n",
    "offer_type = offers.groupby(['offer_type'])['person'].count().reset_index(name = 'count')\n",
    "axs[0] = plt.pie(offer_type['count'], labels = offer_type['offer_type'], \n",
    "                 colors = [cmap(1), cmap(5), cmap(9)], autopct = my_fmt_1, \n",
    "                 textprops={'fontsize': 16}, pctdistance = 0.65)\n",
    "centre_circle1 = plt.Circle((0, 0), 0.4, fc = 'white')\n",
    "plt.gcf().gca().add_artist(centre_circle1)\n",
    "plt.title('Released Offers', fontsize = 20)\n",
    "\n",
    "\n",
    "# plot the number of completed offers of each type in proportion to the total\n",
    "# number of completed offers\n",
    "cmplt_type = [sum(bogo['completed']), sum(discount['completed']), sum(info['completed'])]\n",
    "labels = ['bogo', 'discount', 'informational']\n",
    "\n",
    "axs.append(fig.add_subplot(132))\n",
    "axs[1] = plt.pie(cmplt_type, labels = labels, autopct = my_fmt_2, \n",
    "                 colors = [cmap(1), cmap(5), cmap(9)], textprops={'fontsize': 16}, pctdistance = 0.65)\n",
    "centre_circle2 = plt.Circle((0, 0), 0.4, fc = 'white')\n",
    "plt.gcf().gca().add_artist(centre_circle2)\n",
    "plt.title('Completed Offers', fontsize = 20)\n",
    "\n",
    "\n",
    "# integrate the first and the second plot\n",
    "axs.append(fig.add_subplot(133))\n",
    "size = 0.35\n",
    "vals = np.array([[sum(bogo['completed']), len(bogo) - sum(bogo['completed'])],\n",
    "                [sum(discount['completed']), len(discount) - sum(discount['completed'])],\n",
    "                [sum(info['completed']), len(info) - sum(info['completed'])]])\n",
    "\n",
    "outer_colors = cmap(np.arange(3)*4+1)\n",
    "inner_colors = cmap(np.array([2, 3, 6, 7, 10, 11]))\n",
    "\n",
    "axs[2].pie(vals.sum(axis = 1), radius = 1, labels = ['bogo', 'discount', 'informational'], labeldistance = 1.1,\n",
    "        autopct = '%.2f%%', pctdistance = 0.83, colors = outer_colors, \n",
    "           textprops={'fontsize': 16}, wedgeprops = dict(width = size, edgecolor = 'w'))\n",
    "axs[2].pie(vals.flatten(), radius = 1-size, autopct = '%.1f%%',\n",
    "        colors = inner_colors, wedgeprops = dict(width=size, edgecolor = 'w'), \n",
    "           pctdistance = 0.75, textprops={'fontsize': 15})\n",
    "# axs[2].set(aspect = 'equal')\n",
    "plt.title('Distribution of Different Offers Types', fontsize = 20)\n",
    "labels = ['bogo', 'discount', 'info', 'bogo, completed', 'bogo, not completed', \n",
    "          'discount, completed', 'discount, not completed', 'info, completed', 'info, not completed']\n",
    "axs[2].legend(labels, prop = {'size': 16}, loc = (1.25, 0.2))\n",
    "\n",
    "plt.show()"
   ]
  },
  {
   "cell_type": "markdown",
   "metadata": {},
   "source": [
    "The following code plot the gender distribution across different types of offers, completed and not-completed offers.\n",
    "\n",
    "It turns out that the female tends complete relatively more BOGO and discount offer than male, and inversen for informational offers. This indicates that gender can be selected as a predictor when training a classifier."
   ]
  },
  {
   "cell_type": "code",
   "execution_count": 44,
   "metadata": {},
   "outputs": [
    {
     "data": {
      "image/png": "[encoded data removed]",
      "text/plain": [
       "<Figure size 2160x720 with 3 Axes>"
      ]
     },
     "metadata": {},
     "output_type": "display_data"
    }
   ],
   "source": [
    "fig = plt.figure(figsize = (30, 10))\n",
    "axs = []\n",
    "size = 0.3\n",
    "cmap = plt.get_cmap('tab20c')\n",
    "outer_colors = cmap(np.arange(3)*4+1)\n",
    "inner_colors = cmap(np.array([2, 3, 6, 7, 10, 11]))\n",
    "\n",
    "# plot gender distribution of customers who received/completed/didn't complete BOGO offer\n",
    "bogo_f = bogo[bogo['gender'] == 1]\n",
    "bogo_m = bogo[bogo['gender'] == 0]\n",
    "bogo_f_y = bogo_f[bogo_f['completed'] == 1]\n",
    "bogo_m_y = bogo_m[bogo_m['completed'] == 1]\n",
    "\n",
    "axs.append(fig.add_subplot(131))\n",
    "vals_bogo = np.array([[len(bogo_f_y), len(bogo_f) - len(bogo_f_y)],\n",
    "                [len(bogo_m_y), len(bogo_m) - len(bogo_m_y)]])\n",
    "axs[0].pie(vals_bogo.sum(axis = 1), radius = 1, labels = ['Female', 'Male'], labeldistance = 1.1,\n",
    "        autopct = '%.2f%%', pctdistance = 0.8, colors = outer_colors, wedgeprops = dict(width = size, edgecolor = 'w'))\n",
    "axs[0].pie(vals_bogo.flatten(), radius = 1-size, labeldistance = 0.7,\n",
    "       autopct = '%.2f%%', pctdistance = 0.75, colors = inner_colors, wedgeprops = dict(width=size, edgecolor = 'w'))\n",
    "axs[0].set(aspect = 'equal', title = 'Bogo Offer')\n",
    "\n",
    "# plot gender distribution of customers who received/completed/didn't complete discount offer\n",
    "discount_f = discount[discount['gender'] == 1]\n",
    "discount_m = discount[discount['gender'] == 0]\n",
    "discount_f_y = discount_f[discount_f['completed'] == 1]\n",
    "discount_m_y = discount_m[discount_m['completed'] == 1]\n",
    "\n",
    "axs.append(fig.add_subplot(132))\n",
    "vals_discount = np.array([[len(discount_f_y), len(discount_f) - len(discount_f_y)],\n",
    "                [len(discount_m_y), len(discount_m) - len(discount_m_y)]])\n",
    "axs[1].pie(vals_discount.sum(axis = 1), radius = 1, labels = ['Female', 'Male'], labeldistance = 1.1,\n",
    "        autopct = '%.2f%%', pctdistance = 0.8, colors = outer_colors, wedgeprops = dict(width = size, edgecolor = 'w'))\n",
    "axs[1].pie(vals_discount.flatten(), radius = 1-size, labeldistance = 0.7,\n",
    "       autopct = '%.2f%%', pctdistance = 0.75, colors = inner_colors, wedgeprops = dict(width=size, edgecolor = 'w'))\n",
    "axs[1].set(aspect = 'equal', title = 'Discount Offer')\n",
    "\n",
    "# plot gender distribution of customers who received/completed/didn't complete informational offer\n",
    "info_f = info[info['gender'] == 1]\n",
    "info_m = info[info['gender'] == 0]\n",
    "info_f_y = info_f[info_f['completed'] == 1]\n",
    "info_m_y = info_m[info_m['completed'] == 1]\n",
    "\n",
    "axs.append(fig.add_subplot(133))\n",
    "vals_info = np.array([[len(info_f_y), len(info_f) - len(info_f_y)],\n",
    "                [len(info_m_y), len(info_m) - len(info_m_y)]])\n",
    "axs[2].pie(vals_info.sum(axis = 1), radius = 1, labels = ['Female', 'Male'], labeldistance = 1.1,\n",
    "        autopct = '%.2f%%', pctdistance = 0.8, colors = outer_colors, wedgeprops = dict(width = size, edgecolor = 'w'))\n",
    "axs[2].pie(vals_info.flatten(), radius = 1-size, labeldistance = 0.7,\n",
    "        autopct = '%.2f%%', pctdistance = 0.75, colors = inner_colors, wedgeprops = dict(width=size, edgecolor = 'w'))\n",
    "axs[2].set(aspect = 'equal', title = 'Informatoinal Offer')\n",
    "labels = ['Female', 'Male', 'Female, Completed', 'Female, Not Completed', 'Male, Completed', 'Male, Not Completed']\n",
    "axs[2].legend(labels, prop = {'size': 20}, loc = (1.1, 0.2))\n",
    "\n",
    "plt.show()"
   ]
  },
  {
   "cell_type": "markdown",
   "metadata": {},
   "source": [
    "Since customers may buy products even though they don't get an offer, a qualitative analysis is conducted for the transactions that contribute to offer completions and those that are not encouraged by the offers. The customers are divided into three groups by income to simplify the analysis."
   ]
  },
  {
   "cell_type": "code",
   "execution_count": 45,
   "metadata": {},
   "outputs": [],
   "source": [
    "profile_sub['Income Level'] = 'Under 50k'\n",
    "profile_sub.loc[(profile_sub['income'] > 50000) & (profile_sub['income'] <= 80000), \n",
    "                'Income Level'] = 'Between 50k and 80k'\n",
    "profile_sub.loc[profile_sub['income'] > 80000, 'Income Level'] = 'Over 80k'\n",
    "\n",
    "profile_sub = profile_sub[(profile_sub['amount (offer)'] <= 200) &\n",
    "                         (profile_sub['amount (no offer)'] <= 200)]\n",
    "\n",
    "profile_sub_1 = profile_sub.drop(columns = ['amount (no offer)'])\n",
    "profile_sub_1.rename(columns = {'amount (offer)': 'amount'}, inplace = True)\n",
    "profile_sub_1['type'] = 'offer'\n",
    "\n",
    "profile_sub_2 = profile_sub.drop(columns = ['amount (offer)'])\n",
    "profile_sub_2.rename(columns = {'amount (no offer)': 'amount'}, inplace = True)\n",
    "profile_sub_2['type'] = 'no offer'\n",
    "\n",
    "profile_sub_type = pd.concat([profile_sub_1, profile_sub_2])"
   ]
  },
  {
   "cell_type": "code",
   "execution_count": 46,
   "metadata": {},
   "outputs": [
    {
     "data": {
      "text/plain": [
       "Text(0.5, 1.0, 'Transaction Amount Distribution')"
      ]
     },
     "execution_count": 46,
     "metadata": {},
     "output_type": "execute_result"
    },
    {
     "data": {
      "image/png": "[encoded data removed]",
      "text/plain": [
       "<Figure size 432x288 with 1 Axes>"
      ]
     },
     "metadata": {
      "needs_background": "light"
     },
     "output_type": "display_data"
    }
   ],
   "source": [
    "sns.boxplot(x = 'Income Level', y = 'amount', hue = 'type', showfliers = False,\n",
    "           data = profile_sub_type, palette = 'Pastel1')\n",
    "plt.legend(title = 'Have Offer or Not', loc = 'upper right')\n",
    "plt.xlabel('Income Level')\n",
    "plt.ylabel('Transaction Amount')\n",
    "plt.title(label = 'Transaction Amount Distribution')"
   ]
  },
  {
   "cell_type": "markdown",
   "metadata": {},
   "source": [
    "The difference in transaction amount is largest in the group with income over 80k, and smallest in the group with income under 50k. In proportion to the amount they spend with no offer, the offers work more effectively for the customers with lower income."
   ]
  },
  {
   "cell_type": "markdown",
   "metadata": {},
   "source": [
    "## Implementation"
   ]
  },
  {
   "cell_type": "markdown",
   "metadata": {},
   "source": [
    "In this section, a classifier is trained to predict whether a released offer will be completed or not. The classifier chosen in this project is Random Forest. The advantage of Random Forest is that we can get the feature importance from the result. The classifier is trained separately for the three offer types."
   ]
  },
  {
   "cell_type": "markdown",
   "metadata": {},
   "source": [
    "#### Get the feature matrix and response variable.\n",
    "\n",
    "Customer profile features that will be used to train the classifiers include gender, age, income and the number of days being a member. The offer portfolio features include duration, difficulty, reward, social, web, and email are selected as predictors. To avoid the collinearity problem, one of the media channel columns, mobile, is omitted.\n",
    "The target/label to be predicted is whether the offer is completed, which is stored in the completed column of the received dataset."
   ]
  },
  {
   "cell_type": "code",
   "execution_count": 47,
   "metadata": {},
   "outputs": [],
   "source": [
    "feats = ['gender','age', 'income', 'membership days', 'reward', 'difficulty', 'duration', \n",
    "         'web', 'email', 'social', 'mobile']\n",
    "\n",
    "bogo_x, bogo_y = bogo[feats], bogo.loc[:, 'completed']\n",
    "discount_x, discount_y = discount[feats], discount.loc[:, 'completed']\n",
    "info_x, info_y = info[feats], info.loc[:, 'completed']"
   ]
  },
  {
   "cell_type": "markdown",
   "metadata": {},
   "source": [
    "#### Training and test set split"
   ]
  },
  {
   "cell_type": "code",
   "execution_count": 48,
   "metadata": {},
   "outputs": [],
   "source": [
    "# train and test split\n",
    "bogo_x_train, bogo_x_test, bogo_y_train, bogo_y_test = train_test_split(bogo_x, bogo_y)\n",
    "discount_x_train, discount_x_test, discount_y_train, discount_y_test = train_test_split(discount_x, discount_y)\n",
    "info_x_train, info_x_test, info_y_train, info_y_test = train_test_split(info_x, info_y)"
   ]
  },
  {
   "cell_type": "markdown",
   "metadata": {},
   "source": [
    "#### Specify a set of hyperparemter values\n",
    "\n",
    "To refine the performance, the hyperparameters are tuned with ```GridSearchCV```. Predefine values for the number of estimators, the number of features to consider for the best split and the minimum number of sample at leaf node will be passed to the ```GridSearchCV``` function. \n",
    "\n",
    "The function will try all combinations of the values and evaluates the model for each combination using cross-validation. The best model with the highest F1 score is returned and considered as the final result."
   ]
  },
  {
   "cell_type": "code",
   "execution_count": 49,
   "metadata": {},
   "outputs": [],
   "source": [
    "# parameters to be tuned\n",
    "parameters = {'n_estimators': [100, 200, 300],\n",
    "             'max_features': ['auto', 'sqrt'],\n",
    "             'min_samples_leaf': [1, 2, 4]}"
   ]
  },
  {
   "cell_type": "markdown",
   "metadata": {},
   "source": [
    "#### Classifier for BOGO offers\n",
    "\n",
    "Train a classifier that predict if a BOGO offer will be completed."
   ]
  },
  {
   "cell_type": "code",
   "execution_count": 50,
   "metadata": {},
   "outputs": [
    {
     "data": {
      "text/plain": [
       "GridSearchCV(estimator=RandomForestClassifier(),\n",
       "             param_grid={'max_features': ['auto', 'sqrt'],\n",
       "                         'min_samples_leaf': [1, 2, 4],\n",
       "                         'n_estimators': [100, 200, 300]},\n",
       "             scoring='f1_micro')"
      ]
     },
     "execution_count": 50,
     "metadata": {},
     "output_type": "execute_result"
    }
   ],
   "source": [
    "# initiate classifier\n",
    "cv_bogo = GridSearchCV(RandomForestClassifier(), param_grid = parameters, scoring = 'f1_micro')\n",
    "# find the best classifier from the predefined combinations hyperparameters\n",
    "cv_bogo.fit(bogo_x_train, bogo_y_train)"
   ]
  },
  {
   "cell_type": "code",
   "execution_count": 51,
   "metadata": {},
   "outputs": [
    {
     "data": {
      "text/plain": [
       "{'max_features': 'sqrt', 'min_samples_leaf': 4, 'n_estimators': 300}"
      ]
     },
     "execution_count": 51,
     "metadata": {},
     "output_type": "execute_result"
    }
   ],
   "source": [
    "# the parameter combination that gets the best performance\n",
    "cv_bogo.best_params_"
   ]
  },
  {
   "cell_type": "code",
   "execution_count": 52,
   "metadata": {},
   "outputs": [],
   "source": [
    "# get the best model\n",
    "bogo_model = cv_bogo.best_estimator_"
   ]
  },
  {
   "cell_type": "markdown",
   "metadata": {},
   "source": [
    "#### Classifier for discount offers\n",
    "\n",
    "Train a classifier that predict if a discount offer will be completed."
   ]
  },
  {
   "cell_type": "code",
   "execution_count": 53,
   "metadata": {},
   "outputs": [],
   "source": [
    "# initiate classifier\n",
    "cv_discount = GridSearchCV(RandomForestClassifier(), param_grid = parameters, scoring = 'f1_micro')\n",
    "# find the best classifier from the predefined combinations hyperparameters\n",
    "cv_discount.fit(discount_x_train, discount_y_train)\n",
    "# get the best model\n",
    "discount_model = cv_discount.best_estimator_"
   ]
  },
  {
   "cell_type": "markdown",
   "metadata": {},
   "source": [
    "#### Classifier for Informational offers\n",
    "\n",
    "Train a classifier that predict if an informational offer will be completed."
   ]
  },
  {
   "cell_type": "code",
   "execution_count": 54,
   "metadata": {},
   "outputs": [],
   "source": [
    "# initiate classifier\n",
    "cv_info = GridSearchCV(RandomForestClassifier(), param_grid = parameters, scoring = 'f1_micro')\n",
    "# find the best classifier from the predefined combinations hyperparameters\n",
    "cv_info.fit(info_x_train, info_y_train)\n",
    "# get the best model\n",
    "info_model = cv_info.best_estimator_"
   ]
  },
  {
   "cell_type": "markdown",
   "metadata": {},
   "source": [
    "## Results"
   ]
  },
  {
   "cell_type": "markdown",
   "metadata": {},
   "source": [
    "### Performance evaluation of the classifiers\n",
    "\n",
    "The training and test accuracy (F1 score) of the three classifiers are given by the ```classification_report``` function.\n",
    "\n",
    "The F1 score on the test set is 68%, 72%, and 67% for BOGO, discount, and informational offer respectively."
   ]
  },
  {
   "cell_type": "markdown",
   "metadata": {},
   "source": [
    "#### Performance of the classifier for BOGO offers"
   ]
  },
  {
   "cell_type": "code",
   "execution_count": 55,
   "metadata": {},
   "outputs": [
    {
     "name": "stdout",
     "output_type": "stream",
     "text": [
      "              precision    recall  f1-score   support\n",
      "\n",
      "       False       0.84      0.90      0.87     11555\n",
      "        True       0.85      0.75      0.79      8082\n",
      "\n",
      "    accuracy                           0.84     19637\n",
      "   macro avg       0.84      0.83      0.83     19637\n",
      "weighted avg       0.84      0.84      0.84     19637\n",
      "\n"
     ]
    }
   ],
   "source": [
    "# evaluate the model performance on the training set\n",
    "bogo_train_pred = bogo_model.predict(bogo_x_train)\n",
    "print(classification_report(bogo_y_train, bogo_train_pred))"
   ]
  },
  {
   "cell_type": "code",
   "execution_count": 56,
   "metadata": {},
   "outputs": [
    {
     "name": "stdout",
     "output_type": "stream",
     "text": [
      "              precision    recall  f1-score   support\n",
      "\n",
      "       False       0.72      0.78      0.75      3975\n",
      "        True       0.61      0.53      0.57      2571\n",
      "\n",
      "    accuracy                           0.68      6546\n",
      "   macro avg       0.66      0.65      0.66      6546\n",
      "weighted avg       0.68      0.68      0.68      6546\n",
      "\n"
     ]
    }
   ],
   "source": [
    "# evaluate the model performance on the unseen test set\n",
    "bogo_pred = bogo_model.predict(bogo_x_test)\n",
    "print(classification_report(bogo_y_test, bogo_pred))"
   ]
  },
  {
   "cell_type": "markdown",
   "metadata": {},
   "source": [
    "#### Performance of the classifier for discount offers"
   ]
  },
  {
   "cell_type": "code",
   "execution_count": 57,
   "metadata": {},
   "outputs": [
    {
     "name": "stdout",
     "output_type": "stream",
     "text": [
      "              precision    recall  f1-score   support\n",
      "\n",
      "       False       0.85      0.89      0.87     10849\n",
      "        True       0.85      0.81      0.83      8873\n",
      "\n",
      "    accuracy                           0.85     19722\n",
      "   macro avg       0.85      0.85      0.85     19722\n",
      "weighted avg       0.85      0.85      0.85     19722\n",
      "\n"
     ]
    }
   ],
   "source": [
    "# evaluate the model performance on the training set\n",
    "discount_train_pred = discount_model.predict(discount_x_train)\n",
    "print(classification_report(discount_y_train, discount_train_pred))"
   ]
  },
  {
   "cell_type": "code",
   "execution_count": 58,
   "metadata": {},
   "outputs": [
    {
     "name": "stdout",
     "output_type": "stream",
     "text": [
      "              precision    recall  f1-score   support\n",
      "\n",
      "       False       0.74      0.78      0.76      3609\n",
      "        True       0.71      0.66      0.69      2966\n",
      "\n",
      "    accuracy                           0.73      6575\n",
      "   macro avg       0.73      0.72      0.72      6575\n",
      "weighted avg       0.73      0.73      0.73      6575\n",
      "\n"
     ]
    }
   ],
   "source": [
    "# evaluate the model performance on the unseen test set\n",
    "discount_pred = discount_model.predict(discount_x_test)\n",
    "print(classification_report(discount_y_test, discount_pred))"
   ]
  },
  {
   "cell_type": "markdown",
   "metadata": {},
   "source": [
    "#### Performance of the classifier for informational offers"
   ]
  },
  {
   "cell_type": "code",
   "execution_count": 59,
   "metadata": {},
   "outputs": [
    {
     "name": "stdout",
     "output_type": "stream",
     "text": [
      "              precision    recall  f1-score   support\n",
      "\n",
      "       False       0.83      0.91      0.87      5923\n",
      "        True       0.85      0.72      0.78      3905\n",
      "\n",
      "    accuracy                           0.84      9828\n",
      "   macro avg       0.84      0.82      0.83      9828\n",
      "weighted avg       0.84      0.84      0.84      9828\n",
      "\n"
     ]
    }
   ],
   "source": [
    "# evaluate the model performance on the training set\n",
    "info_train_pred = info_model.predict(info_x_train)\n",
    "print(classification_report(info_y_train, info_train_pred))"
   ]
  },
  {
   "cell_type": "code",
   "execution_count": 60,
   "metadata": {},
   "outputs": [
    {
     "name": "stdout",
     "output_type": "stream",
     "text": [
      "              precision    recall  f1-score   support\n",
      "\n",
      "       False       0.70      0.79      0.75      2010\n",
      "        True       0.59      0.47      0.52      1267\n",
      "\n",
      "    accuracy                           0.67      3277\n",
      "   macro avg       0.65      0.63      0.63      3277\n",
      "weighted avg       0.66      0.67      0.66      3277\n",
      "\n"
     ]
    }
   ],
   "source": [
    "# evaluate the model performance on the unseen test set\n",
    "info_pred = info_model.predict(info_x_test)\n",
    "print(classification_report(info_y_test, info_pred))"
   ]
  },
  {
   "cell_type": "markdown",
   "metadata": {},
   "source": [
    "### Feature importance\n",
    "\n",
    "Compared to the prediction accuracy, finding the most powerful predictors is more important in this project."
   ]
  },
  {
   "cell_type": "code",
   "execution_count": 61,
   "metadata": {},
   "outputs": [],
   "source": [
    "# get the features that have the top 5 feature importance in the Random Forest\n",
    "bogo_importance = bogo_model.feature_importances_\n",
    "bogo_feat_df = pd.DataFrame(data = {'importance': bogo_importance}, index = feats)\n",
    "bogo_feat_df.sort_values(by = ['importance'], inplace = True)\n",
    "bogo_feat_df = bogo_feat_df.iloc[len(bogo_feat_df)-5:len(bogo_feat_df)]\n",
    "\n",
    "discount_importance = discount_model.feature_importances_\n",
    "discount_feat_df = pd.DataFrame(data = {'importance': discount_importance}, index = feats)\n",
    "discount_feat_df.sort_values(by = ['importance'], inplace = True)\n",
    "discount_feat_df = discount_feat_df.iloc[len(discount_feat_df)-5:len(discount_feat_df)]\n",
    "\n",
    "info_importance = info_model.feature_importances_\n",
    "info_feat_df = pd.DataFrame(data = {'importance': info_importance}, index = feats)\n",
    "info_feat_df.sort_values(by = ['importance'], inplace = True)\n",
    "info_feat_df = info_feat_df.iloc[len(info_feat_df)-5:len(info_feat_df)]"
   ]
  },
  {
   "cell_type": "code",
   "execution_count": 62,
   "metadata": {},
   "outputs": [
    {
     "data": {
      "image/png": "[encoded data removed]",
      "text/plain": [
       "<Figure size 1440x1080 with 4 Axes>"
      ]
     },
     "metadata": {
      "needs_background": "light"
     },
     "output_type": "display_data"
    }
   ],
   "source": [
    "# plot the feature importance\n",
    "fig = plt.figure(figsize = (20, 15))\n",
    "axs = []\n",
    "\n",
    "axs.append(fig.add_subplot(221))\n",
    "axs[0].barh(['duration', 'gender', 'age', 'income', 'member-\\nship days'], bogo_feat_df['importance'], \n",
    "            height = 0.5, color = 'lightblue')\n",
    "plt.xticks(fontsize = 14)\n",
    "plt.yticks(fontsize = 14)\n",
    "plt.xlabel('Feature Importance', fontsize = 16)\n",
    "plt.ylabel('Feature', fontsize = 16)\n",
    "plt.title('Feature Importance for BOGO Offer', fontsize = 18)\n",
    "\n",
    "axs.append(fig.add_subplot(222))\n",
    "axs[1].barh(['reward', 'social', 'age', 'income', 'member-\\nship days'], discount_feat_df['importance'], \n",
    "            height = 0.5, color = 'lightblue')\n",
    "plt.xlabel('Feature Importance', fontsize = 16)\n",
    "plt.ylabel('Feature', fontsize = 16)\n",
    "plt.xticks(fontsize = 14)\n",
    "plt.yticks(fontsize = 14)\n",
    "plt.title('Feature Importance for Discount Offer', fontsize = 18)\n",
    "\n",
    "axs.append(fig.add_subplot(223))\n",
    "axs[2].barh(['duration', 'social', 'age', 'income', 'member-\\nship days'], info_feat_df['importance'], \n",
    "            height = 0.5, color = 'lightblue')\n",
    "plt.xticks(fontsize = 14)\n",
    "plt.yticks(fontsize = 14)\n",
    "plt.xlabel('Feature Importance', fontsize = 16)\n",
    "plt.ylabel('Feature', fontsize = 16)\n",
    "plt.title('Feature Importance for Informational Offer', fontsize = 18)\n",
    "\n",
    "# plot the training and test accuracy of the classifiers\n",
    "axs.append(fig.add_subplot(224))\n",
    "report = dict({'Type': ['BOGO', 'dicount', 'informational'],\n",
    "              'Training F1 Score': [84, 85, 84],\n",
    "              'Test F1 Score': [68, 72, 67]})\n",
    "x_axis = np.arange(len(report['Type']))\n",
    "axs[3].bar(x_axis-0.2, report['Training F1 Score'], width = 0.4, label = 'Train', color = 'lightpink')\n",
    "axs[3].bar(x_axis+0.2, report['Test F1 Score'], width = 0.4, label = 'Test', color = 'lightblue')\n",
    "axs[3].set_ylim(ymin = 30)\n",
    "axs[3].yaxis.set_major_formatter(mtick.PercentFormatter())\n",
    "plt.legend(fontsize = 14, title_fontsize = 14)\n",
    "plt.xticks(x_axis, report['Type'], fontsize = 14)\n",
    "plt.yticks(fontsize = 14)\n",
    "plt.xlabel('Offer Type', fontsize = 16)\n",
    "plt.ylabel('F1 Score', fontsize = 16)\n",
    "plt.title('Model Performance Evaluation', fontsize = 18)\n",
    "\n",
    "plt.show()"
   ]
  },
  {
   "cell_type": "markdown",
   "metadata": {},
   "source": [
    "It turns out that the number of days being a member, the income and the age of the customers are the most predictive features for all types of offer. So let's further look at how the distribution of these three features differs for the completed offers and not-completed offers."
   ]
  },
  {
   "cell_type": "code",
   "execution_count": 63,
   "metadata": {},
   "outputs": [
    {
     "data": {
      "image/png": "[encoded data removed]",
      "text/plain": [
       "<Figure size 1440x1152 with 3 Axes>"
      ]
     },
     "metadata": {
      "needs_background": "light"
     },
     "output_type": "display_data"
    }
   ],
   "source": [
    "# plot the distribution of membership length, income and age of customers\n",
    "fig = plt.figure(figsize = (20, 16))\n",
    "axs = []\n",
    "bogo_sub = bogo[['membership days', 'income', 'age', 'completed']]\n",
    "bogo_sub['type'] = 'bogo'\n",
    "\n",
    "discount_sub = discount[['membership days', 'income', 'age', 'completed']]\n",
    "discount_sub['type'] = 'discount'\n",
    "\n",
    "info_sub = info[['membership days', 'income', 'age', 'completed']]\n",
    "info_sub['type'] = 'info'\n",
    "\n",
    "offers_sub = pd.concat([bogo_sub, discount_sub, info_sub])\n",
    "offers_sub['completed'] = offers_sub['completed'].astype(bool)\n",
    "\n",
    "# plot the distribution of the membership days\n",
    "axs.append(fig.add_subplot(221))\n",
    "axs[0] = sns.boxplot(x = 'type', y = 'membership days', hue = 'completed', showfliers = False,\n",
    "                    data = offers_sub, palette = 'Pastel1')\n",
    "axs[0].legend(title = 'Completed', loc = 'upper right', fontsize = 14, title_fontsize = 14)\n",
    "plt.xticks(fontsize = 16)\n",
    "plt.yticks(fontsize = 16)\n",
    "plt.xlabel('Offer Type', fontsize = 16)\n",
    "plt.ylabel('Membership Days', fontsize = 16)\n",
    "plt.title(label = 'Membership Days Distribution', fontsize = 18)\n",
    "\n",
    "# plot the distribution of the income\n",
    "axs.append(fig.add_subplot(222))\n",
    "axs[1] = sns.boxplot(x = 'type', y = 'income', hue = 'completed', showfliers = False,\n",
    "           data = offers_sub, palette = 'Pastel1')\n",
    "axs[1].legend(title = 'Completed', loc = 'upper right', fontsize = 14, title_fontsize = 14)\n",
    "plt.xticks(fontsize = 16)\n",
    "plt.yticks(fontsize = 16)\n",
    "plt.xlabel('Offer Type', fontsize = 16)\n",
    "plt.ylabel('Income', fontsize = 16)\n",
    "plt.title(label = 'Income Distribution', fontsize = 18)\n",
    "\n",
    "# plot the distribution of the age\n",
    "axs.append(fig.add_subplot(223))\n",
    "axs[2] = sns.boxplot(x = 'type', y = 'age', hue = 'completed', showfliers = False,\n",
    "                    data = offers_sub, palette = 'Pastel1')\n",
    "axs[2].legend_.texts[0].set_text('F')\n",
    "axs[2].legend(title = 'Completed', loc = 'upper right', fontsize = 14, title_fontsize = 14)\n",
    "plt.xticks(fontsize = 16)\n",
    "plt.yticks(fontsize = 16)\n",
    "plt.xlabel('Offer Type', fontsize = 16)\n",
    "plt.ylabel('age', fontsize = 16)\n",
    "plt.title(label = 'Age Distribution', fontsize = 18)\n",
    "\n",
    "# axs.append(fig.add_subplot(224))\n",
    "# axs[3] = sns.boxplot(x = 'Income Level', y = 'amount', hue = 'type', showfliers = False,\n",
    "#            data = profile_sub_type, palette = 'Pastel1')\n",
    "# plt.legend(title = 'Have Offer or Not', loc = 'upper right', fontsize = 14, title_fontsize = 14)\n",
    "# plt.xticks(fontsize = 16)\n",
    "# plt.yticks(fontsize = 16)\n",
    "# plt.xlabel('Income Level', fontsize = 16)\n",
    "# plt.ylabel('Transaction Amount', fontsize = 16)\n",
    "# plt.title(label = 'Transaction Amount Distribution', fontsize = 18)\n",
    "\n",
    "plt.show()"
   ]
  },
  {
   "cell_type": "markdown",
   "metadata": {},
   "source": [
    "The results show that the customers with longer seniority of membership are more likely to complete the offers they receive than those with shorter membership terms. This difference is slightly smaller for the informational offers. In terms of income, customers with higher income tend to complete BOGO offers and discount offers rather than informational offers, as shown in the second plot. The age distribution across completed and not-completed offers has less difference than membership and income. The overall age of those who complete BOGO and discount offers tends to be higher than those who do not. However, the younger group of customers is more likely to complete informational offers than the elder group."
   ]
  },
  {
   "cell_type": "markdown",
   "metadata": {},
   "source": [
    "## Conclusion\n",
    "\n",
    "The project conducts qualitative and quantitative analysis of the customer's response to BOGO, discount and informational offers. The results reveal insights that can be considered when send out new offers:\n",
    "\n",
    "- BOGO and discount offers are likely to get more response/completion from customers with longer membership, customers with higher income, and older customer groups. \n",
    "- Informational offers tend to get more response/completion from customers with longer membership, customers with lower income, and younger customer groups.\n",
    "- The marginal improvement of the amount spent at Starbucks promoted by the offers is higher for the customers with lower income.\n",
    "\n",
    "There is still a large field that can be studied based on the simulated data. Due to time and effort limitation, I didn't analyze how sending out offers through different channels affect the responses from different customer groups. Also, the machine learning model can be further improved by trying other algorithms and more sets of hyperparameter values."
   ]
  },
  {
   "cell_type": "code",
   "execution_count": null,
   "metadata": {},
   "outputs": [],
   "source": []
  },
  {
   "cell_type": "code",
   "execution_count": null,
   "metadata": {},
   "outputs": [],
   "source": []
  },
  {
   "cell_type": "code",
   "execution_count": null,
   "metadata": {},
   "outputs": [],
   "source": []
  }
 ],
 "metadata": {
  "kernelspec": {
   "display_name": "Python 3",
   "language": "python",
   "name": "python3"
  },
  "language_info": {
   "codemirror_mode": {
    "name": "ipython",
    "version": 3
   },
   "file_extension": ".py",
   "mimetype": "text/x-python",
   "name": "python",
   "nbconvert_exporter": "python",
   "pygments_lexer": "ipython3",
   "version": "3.8.8"
  }
 },
 "nbformat": 4,
 "nbformat_minor": 2
}
